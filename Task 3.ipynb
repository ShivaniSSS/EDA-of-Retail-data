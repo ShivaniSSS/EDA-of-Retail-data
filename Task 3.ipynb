{
 "cells": [
  {
   "cell_type": "markdown",
   "metadata": {},
   "source": [
    "# Name: Shivani S\n",
    "## #Task 3\n",
    "# Exploratory Data Analysis - Retail\n",
    "Q. As a business manager, try to find out the weak areas where you can work to\n",
    "make more profit.\n",
    "<br>Q.What all business problems you can derive by exploring the data? \n"
   ]
  },
  {
   "cell_type": "code",
   "execution_count": 1,
   "metadata": {},
   "outputs": [],
   "source": [
    "# importing libraries\n",
    "\n",
    "import pandas as pd\n",
    "import matplotlib.pyplot as plt\n",
    "import seaborn as sns"
   ]
  },
  {
   "cell_type": "markdown",
   "metadata": {},
   "source": [
    "### 1. Reading the data"
   ]
  },
  {
   "cell_type": "code",
   "execution_count": 2,
   "metadata": {},
   "outputs": [],
   "source": [
    "data = pd. read_csv('SampleSuperstore.csv')"
   ]
  },
  {
   "cell_type": "markdown",
   "metadata": {},
   "source": [
    "### 2. Variable Identification"
   ]
  },
  {
   "cell_type": "markdown",
   "metadata": {},
   "source": [
    "#### Data Dictionary \n",
    "<table>\n",
    "    <tr>\n",
    "        <th>Variable</th>\n",
    "        <th>Description</th>\n",
    "    </tr>\n",
    "    <tr>\n",
    "        <td>Ship Mode</td>\n",
    "        <td>The mode of shipping of the prodcut choosed by the customer(Standard class, first class, second class and same day)</td>\n",
    "    </tr>\n",
    "    <tr>\n",
    "        <td>Segment</td>\n",
    "        <td>The segment that purchased the product(Consumer/ Corporate/ Home office)</td>\n",
    "    </tr>\n",
    "    <tr>\n",
    "        <td>Country</td>\n",
    "        <td>The country where the product is purchased(US)</td>\n",
    "    </tr>\n",
    "    <tr>\n",
    "        <td>City</td>\n",
    "        <td>The city where the product is purchased</td>\n",
    "    </tr>\n",
    "    <tr>\n",
    "        <td>State</td>\n",
    "        <td>The State where the product is purchased</td>\n",
    "    </tr>\n",
    "    <tr>\n",
    "        <td>Postal code</td>\n",
    "        <td>The postal code of the place where the product is purchased</td>\n",
    "    </tr>\n",
    "    <tr>\n",
    "        <td>Region</td>\n",
    "        <td>The region where the product is purchased</td>\n",
    "    </tr>\n",
    "    <tr>\n",
    "        <td>Category</td>\n",
    "        <td>The category of the product(Technology/ Office supplies/ Furniture)</td>\n",
    "    </tr>\n",
    "    <tr>\n",
    "        <td>Sub-Category</td>\n",
    "        <td>The sub category, the product belongs to</td>\n",
    "    </tr>\n",
    "    <tr>\n",
    "        <td>Sales</td>\n",
    "        <td>The price, the product was sold with.</td>\n",
    "    </tr>\n",
    "    <tr>\n",
    "        <td>Quantity</td>\n",
    "        <td>The quantity of the product sold</td>\n",
    "    </tr>\n",
    "    <tr>\n",
    "        <td>Discount</td>\n",
    "        <td>The discount given for that product</td>\n",
    "    </tr>\n",
    "    <tr>\n",
    "        <td>Profit</td>\n",
    "        <td>The profit got by selling the product</td>\n",
    "    </tr>\n",
    "</table>"
   ]
  },
  {
   "cell_type": "code",
   "execution_count": 3,
   "metadata": {},
   "outputs": [
    {
     "data": {
      "text/html": [
       "<div>\n",
       "<style scoped>\n",
       "    .dataframe tbody tr th:only-of-type {\n",
       "        vertical-align: middle;\n",
       "    }\n",
       "\n",
       "    .dataframe tbody tr th {\n",
       "        vertical-align: top;\n",
       "    }\n",
       "\n",
       "    .dataframe thead th {\n",
       "        text-align: right;\n",
       "    }\n",
       "</style>\n",
       "<table border=\"1\" class=\"dataframe\">\n",
       "  <thead>\n",
       "    <tr style=\"text-align: right;\">\n",
       "      <th></th>\n",
       "      <th>Ship Mode</th>\n",
       "      <th>Segment</th>\n",
       "      <th>Country</th>\n",
       "      <th>City</th>\n",
       "      <th>State</th>\n",
       "      <th>Postal Code</th>\n",
       "      <th>Region</th>\n",
       "      <th>Category</th>\n",
       "      <th>Sub-Category</th>\n",
       "      <th>Sales</th>\n",
       "      <th>Quantity</th>\n",
       "      <th>Discount</th>\n",
       "      <th>Profit</th>\n",
       "    </tr>\n",
       "  </thead>\n",
       "  <tbody>\n",
       "    <tr>\n",
       "      <th>0</th>\n",
       "      <td>Second Class</td>\n",
       "      <td>Consumer</td>\n",
       "      <td>United States</td>\n",
       "      <td>Henderson</td>\n",
       "      <td>Kentucky</td>\n",
       "      <td>42420</td>\n",
       "      <td>South</td>\n",
       "      <td>Furniture</td>\n",
       "      <td>Bookcases</td>\n",
       "      <td>261.9600</td>\n",
       "      <td>2</td>\n",
       "      <td>0.00</td>\n",
       "      <td>41.9136</td>\n",
       "    </tr>\n",
       "    <tr>\n",
       "      <th>1</th>\n",
       "      <td>Second Class</td>\n",
       "      <td>Consumer</td>\n",
       "      <td>United States</td>\n",
       "      <td>Henderson</td>\n",
       "      <td>Kentucky</td>\n",
       "      <td>42420</td>\n",
       "      <td>South</td>\n",
       "      <td>Furniture</td>\n",
       "      <td>Chairs</td>\n",
       "      <td>731.9400</td>\n",
       "      <td>3</td>\n",
       "      <td>0.00</td>\n",
       "      <td>219.5820</td>\n",
       "    </tr>\n",
       "    <tr>\n",
       "      <th>2</th>\n",
       "      <td>Second Class</td>\n",
       "      <td>Corporate</td>\n",
       "      <td>United States</td>\n",
       "      <td>Los Angeles</td>\n",
       "      <td>California</td>\n",
       "      <td>90036</td>\n",
       "      <td>West</td>\n",
       "      <td>Office Supplies</td>\n",
       "      <td>Labels</td>\n",
       "      <td>14.6200</td>\n",
       "      <td>2</td>\n",
       "      <td>0.00</td>\n",
       "      <td>6.8714</td>\n",
       "    </tr>\n",
       "    <tr>\n",
       "      <th>3</th>\n",
       "      <td>Standard Class</td>\n",
       "      <td>Consumer</td>\n",
       "      <td>United States</td>\n",
       "      <td>Fort Lauderdale</td>\n",
       "      <td>Florida</td>\n",
       "      <td>33311</td>\n",
       "      <td>South</td>\n",
       "      <td>Furniture</td>\n",
       "      <td>Tables</td>\n",
       "      <td>957.5775</td>\n",
       "      <td>5</td>\n",
       "      <td>0.45</td>\n",
       "      <td>-383.0310</td>\n",
       "    </tr>\n",
       "    <tr>\n",
       "      <th>4</th>\n",
       "      <td>Standard Class</td>\n",
       "      <td>Consumer</td>\n",
       "      <td>United States</td>\n",
       "      <td>Fort Lauderdale</td>\n",
       "      <td>Florida</td>\n",
       "      <td>33311</td>\n",
       "      <td>South</td>\n",
       "      <td>Office Supplies</td>\n",
       "      <td>Storage</td>\n",
       "      <td>22.3680</td>\n",
       "      <td>2</td>\n",
       "      <td>0.20</td>\n",
       "      <td>2.5164</td>\n",
       "    </tr>\n",
       "  </tbody>\n",
       "</table>\n",
       "</div>"
      ],
      "text/plain": [
       "        Ship Mode    Segment        Country             City       State  \\\n",
       "0    Second Class   Consumer  United States        Henderson    Kentucky   \n",
       "1    Second Class   Consumer  United States        Henderson    Kentucky   \n",
       "2    Second Class  Corporate  United States      Los Angeles  California   \n",
       "3  Standard Class   Consumer  United States  Fort Lauderdale     Florida   \n",
       "4  Standard Class   Consumer  United States  Fort Lauderdale     Florida   \n",
       "\n",
       "   Postal Code Region         Category Sub-Category     Sales  Quantity  \\\n",
       "0        42420  South        Furniture    Bookcases  261.9600         2   \n",
       "1        42420  South        Furniture       Chairs  731.9400         3   \n",
       "2        90036   West  Office Supplies       Labels   14.6200         2   \n",
       "3        33311  South        Furniture       Tables  957.5775         5   \n",
       "4        33311  South  Office Supplies      Storage   22.3680         2   \n",
       "\n",
       "   Discount    Profit  \n",
       "0      0.00   41.9136  \n",
       "1      0.00  219.5820  \n",
       "2      0.00    6.8714  \n",
       "3      0.45 -383.0310  \n",
       "4      0.20    2.5164  "
      ]
     },
     "execution_count": 3,
     "metadata": {},
     "output_type": "execute_result"
    }
   ],
   "source": [
    "data.head()"
   ]
  },
  {
   "cell_type": "code",
   "execution_count": 124,
   "metadata": {},
   "outputs": [
    {
     "data": {
      "text/plain": [
       "Ship Mode       0\n",
       "Segment         0\n",
       "Country         0\n",
       "City            0\n",
       "State           0\n",
       "Postal Code     0\n",
       "Region          0\n",
       "Category        0\n",
       "Sub-Category    0\n",
       "Sales           0\n",
       "Quantity        0\n",
       "Discount        0\n",
       "Profit          0\n",
       "dtype: int64"
      ]
     },
     "execution_count": 124,
     "metadata": {},
     "output_type": "execute_result"
    }
   ],
   "source": [
    "data.isnull().sum()"
   ]
  },
  {
   "cell_type": "markdown",
   "metadata": {},
   "source": [
    "No missing values!"
   ]
  },
  {
   "cell_type": "code",
   "execution_count": 4,
   "metadata": {},
   "outputs": [
    {
     "data": {
      "text/plain": [
       "Ship Mode        object\n",
       "Segment          object\n",
       "Country          object\n",
       "City             object\n",
       "State            object\n",
       "Postal Code       int64\n",
       "Region           object\n",
       "Category         object\n",
       "Sub-Category     object\n",
       "Sales           float64\n",
       "Quantity          int64\n",
       "Discount        float64\n",
       "Profit          float64\n",
       "dtype: object"
      ]
     },
     "execution_count": 4,
     "metadata": {},
     "output_type": "execute_result"
    }
   ],
   "source": [
    "# Identifying categorical and continuous variables\n",
    "\n",
    "data.dtypes"
   ]
  },
  {
   "cell_type": "markdown",
   "metadata": {},
   "source": [
    "<table>\n",
    "    <tr>\n",
    "        <th>Categorial Variables</th>\n",
    "        <th>Continuous Variables</th>\n",
    "    </tr>\n",
    "    <tr>\n",
    "        <td>Ship mode</td>\n",
    "        <td>Postal Code</td>\n",
    "    </tr>\n",
    "    <tr>\n",
    "        <td>Segment</td>\n",
    "        <td>Sales</td>\n",
    "    </tr>\n",
    "    <tr>\n",
    "        <td>Country</td>\n",
    "        <td>Quantity</td>\n",
    "    </tr>\n",
    "    <tr>\n",
    "        <td>City</td>\n",
    "        <td>Discount</td>\n",
    "    </tr>\n",
    "    <tr>\n",
    "        <td>State</td>\n",
    "        <td>Profit</td>\n",
    "    </tr>\n",
    "    <tr>\n",
    "        <td>Region</td>\n",
    "    </tr>\n",
    "    <tr>\n",
    "        <td>Category</td>\n",
    "    </tr>\n",
    "    <tr>\n",
    "        <td>Sub category</td>\n",
    "    </tr>\n",
    "</table>"
   ]
  },
  {
   "cell_type": "markdown",
   "metadata": {},
   "source": [
    "### 3. Univariate Analysis"
   ]
  },
  {
   "cell_type": "markdown",
   "metadata": {},
   "source": [
    "#### a) Continuous Variables"
   ]
  },
  {
   "cell_type": "code",
   "execution_count": 5,
   "metadata": {},
   "outputs": [
    {
     "data": {
      "text/html": [
       "<div>\n",
       "<style scoped>\n",
       "    .dataframe tbody tr th:only-of-type {\n",
       "        vertical-align: middle;\n",
       "    }\n",
       "\n",
       "    .dataframe tbody tr th {\n",
       "        vertical-align: top;\n",
       "    }\n",
       "\n",
       "    .dataframe thead th {\n",
       "        text-align: right;\n",
       "    }\n",
       "</style>\n",
       "<table border=\"1\" class=\"dataframe\">\n",
       "  <thead>\n",
       "    <tr style=\"text-align: right;\">\n",
       "      <th></th>\n",
       "      <th>Postal Code</th>\n",
       "      <th>Sales</th>\n",
       "      <th>Quantity</th>\n",
       "      <th>Discount</th>\n",
       "      <th>Profit</th>\n",
       "    </tr>\n",
       "  </thead>\n",
       "  <tbody>\n",
       "    <tr>\n",
       "      <th>count</th>\n",
       "      <td>9994.000000</td>\n",
       "      <td>9994.000000</td>\n",
       "      <td>9994.000000</td>\n",
       "      <td>9994.000000</td>\n",
       "      <td>9994.000000</td>\n",
       "    </tr>\n",
       "    <tr>\n",
       "      <th>mean</th>\n",
       "      <td>55190.379428</td>\n",
       "      <td>229.858001</td>\n",
       "      <td>3.789574</td>\n",
       "      <td>0.156203</td>\n",
       "      <td>28.656896</td>\n",
       "    </tr>\n",
       "    <tr>\n",
       "      <th>std</th>\n",
       "      <td>32063.693350</td>\n",
       "      <td>623.245101</td>\n",
       "      <td>2.225110</td>\n",
       "      <td>0.206452</td>\n",
       "      <td>234.260108</td>\n",
       "    </tr>\n",
       "    <tr>\n",
       "      <th>min</th>\n",
       "      <td>1040.000000</td>\n",
       "      <td>0.444000</td>\n",
       "      <td>1.000000</td>\n",
       "      <td>0.000000</td>\n",
       "      <td>-6599.978000</td>\n",
       "    </tr>\n",
       "    <tr>\n",
       "      <th>25%</th>\n",
       "      <td>23223.000000</td>\n",
       "      <td>17.280000</td>\n",
       "      <td>2.000000</td>\n",
       "      <td>0.000000</td>\n",
       "      <td>1.728750</td>\n",
       "    </tr>\n",
       "    <tr>\n",
       "      <th>50%</th>\n",
       "      <td>56430.500000</td>\n",
       "      <td>54.490000</td>\n",
       "      <td>3.000000</td>\n",
       "      <td>0.200000</td>\n",
       "      <td>8.666500</td>\n",
       "    </tr>\n",
       "    <tr>\n",
       "      <th>75%</th>\n",
       "      <td>90008.000000</td>\n",
       "      <td>209.940000</td>\n",
       "      <td>5.000000</td>\n",
       "      <td>0.200000</td>\n",
       "      <td>29.364000</td>\n",
       "    </tr>\n",
       "    <tr>\n",
       "      <th>max</th>\n",
       "      <td>99301.000000</td>\n",
       "      <td>22638.480000</td>\n",
       "      <td>14.000000</td>\n",
       "      <td>0.800000</td>\n",
       "      <td>8399.976000</td>\n",
       "    </tr>\n",
       "  </tbody>\n",
       "</table>\n",
       "</div>"
      ],
      "text/plain": [
       "        Postal Code         Sales     Quantity     Discount       Profit\n",
       "count   9994.000000   9994.000000  9994.000000  9994.000000  9994.000000\n",
       "mean   55190.379428    229.858001     3.789574     0.156203    28.656896\n",
       "std    32063.693350    623.245101     2.225110     0.206452   234.260108\n",
       "min     1040.000000      0.444000     1.000000     0.000000 -6599.978000\n",
       "25%    23223.000000     17.280000     2.000000     0.000000     1.728750\n",
       "50%    56430.500000     54.490000     3.000000     0.200000     8.666500\n",
       "75%    90008.000000    209.940000     5.000000     0.200000    29.364000\n",
       "max    99301.000000  22638.480000    14.000000     0.800000  8399.976000"
      ]
     },
     "execution_count": 5,
     "metadata": {},
     "output_type": "execute_result"
    }
   ],
   "source": [
    "data.describe()"
   ]
  },
  {
   "cell_type": "code",
   "execution_count": 6,
   "metadata": {},
   "outputs": [
    {
     "data": {
      "text/plain": [
       "<matplotlib.axes._subplots.AxesSubplot at 0x23456716c08>"
      ]
     },
     "execution_count": 6,
     "metadata": {},
     "output_type": "execute_result"
    },
    {
     "data": {
      "image/png": "[encoded data removed]",
      "text/plain": [
       "<Figure size 432x288 with 1 Axes>"
      ]
     },
     "metadata": {
      "needs_background": "light"
     },
     "output_type": "display_data"
    }
   ],
   "source": [
    "data['Sales'].plot.hist()"
   ]
  },
  {
   "cell_type": "code",
   "execution_count": 7,
   "metadata": {},
   "outputs": [
    {
     "data": {
      "text/plain": [
       "<matplotlib.axes._subplots.AxesSubplot at 0x2345950e988>"
      ]
     },
     "execution_count": 7,
     "metadata": {},
     "output_type": "execute_result"
    },
    {
     "data": {
      "image/png": "[encoded data removed]",
      "text/plain": [
       "<Figure size 432x288 with 1 Axes>"
      ]
     },
     "metadata": {
      "needs_background": "light"
     },
     "output_type": "display_data"
    }
   ],
   "source": [
    "data['Sales'].plot.box()"
   ]
  },
  {
   "cell_type": "markdown",
   "metadata": {},
   "source": [
    "There are some really high values as outliers."
   ]
  },
  {
   "cell_type": "code",
   "execution_count": 8,
   "metadata": {},
   "outputs": [
    {
     "data": {
      "text/html": [
       "<div>\n",
       "<style scoped>\n",
       "    .dataframe tbody tr th:only-of-type {\n",
       "        vertical-align: middle;\n",
       "    }\n",
       "\n",
       "    .dataframe tbody tr th {\n",
       "        vertical-align: top;\n",
       "    }\n",
       "\n",
       "    .dataframe thead th {\n",
       "        text-align: right;\n",
       "    }\n",
       "</style>\n",
       "<table border=\"1\" class=\"dataframe\">\n",
       "  <thead>\n",
       "    <tr style=\"text-align: right;\">\n",
       "      <th></th>\n",
       "      <th>Ship Mode</th>\n",
       "      <th>Segment</th>\n",
       "      <th>Country</th>\n",
       "      <th>City</th>\n",
       "      <th>State</th>\n",
       "      <th>Postal Code</th>\n",
       "      <th>Region</th>\n",
       "      <th>Category</th>\n",
       "      <th>Sub-Category</th>\n",
       "      <th>Sales</th>\n",
       "      <th>Quantity</th>\n",
       "      <th>Discount</th>\n",
       "      <th>Profit</th>\n",
       "    </tr>\n",
       "  </thead>\n",
       "  <tbody>\n",
       "    <tr>\n",
       "      <th>2623</th>\n",
       "      <td>First Class</td>\n",
       "      <td>Home Office</td>\n",
       "      <td>United States</td>\n",
       "      <td>New York City</td>\n",
       "      <td>New York</td>\n",
       "      <td>10024</td>\n",
       "      <td>East</td>\n",
       "      <td>Technology</td>\n",
       "      <td>Copiers</td>\n",
       "      <td>11199.968</td>\n",
       "      <td>4</td>\n",
       "      <td>0.2</td>\n",
       "      <td>3919.9888</td>\n",
       "    </tr>\n",
       "    <tr>\n",
       "      <th>2697</th>\n",
       "      <td>Standard Class</td>\n",
       "      <td>Home Office</td>\n",
       "      <td>United States</td>\n",
       "      <td>Jacksonville</td>\n",
       "      <td>Florida</td>\n",
       "      <td>32216</td>\n",
       "      <td>South</td>\n",
       "      <td>Technology</td>\n",
       "      <td>Machines</td>\n",
       "      <td>22638.480</td>\n",
       "      <td>6</td>\n",
       "      <td>0.5</td>\n",
       "      <td>-1811.0784</td>\n",
       "    </tr>\n",
       "    <tr>\n",
       "      <th>4190</th>\n",
       "      <td>Standard Class</td>\n",
       "      <td>Consumer</td>\n",
       "      <td>United States</td>\n",
       "      <td>Newark</td>\n",
       "      <td>Delaware</td>\n",
       "      <td>19711</td>\n",
       "      <td>East</td>\n",
       "      <td>Technology</td>\n",
       "      <td>Copiers</td>\n",
       "      <td>10499.970</td>\n",
       "      <td>3</td>\n",
       "      <td>0.0</td>\n",
       "      <td>5039.9856</td>\n",
       "    </tr>\n",
       "    <tr>\n",
       "      <th>6826</th>\n",
       "      <td>Standard Class</td>\n",
       "      <td>Corporate</td>\n",
       "      <td>United States</td>\n",
       "      <td>Lafayette</td>\n",
       "      <td>Indiana</td>\n",
       "      <td>47905</td>\n",
       "      <td>Central</td>\n",
       "      <td>Technology</td>\n",
       "      <td>Copiers</td>\n",
       "      <td>17499.950</td>\n",
       "      <td>5</td>\n",
       "      <td>0.0</td>\n",
       "      <td>8399.9760</td>\n",
       "    </tr>\n",
       "    <tr>\n",
       "      <th>8153</th>\n",
       "      <td>First Class</td>\n",
       "      <td>Consumer</td>\n",
       "      <td>United States</td>\n",
       "      <td>Seattle</td>\n",
       "      <td>Washington</td>\n",
       "      <td>98115</td>\n",
       "      <td>West</td>\n",
       "      <td>Technology</td>\n",
       "      <td>Copiers</td>\n",
       "      <td>13999.960</td>\n",
       "      <td>4</td>\n",
       "      <td>0.0</td>\n",
       "      <td>6719.9808</td>\n",
       "    </tr>\n",
       "  </tbody>\n",
       "</table>\n",
       "</div>"
      ],
      "text/plain": [
       "           Ship Mode      Segment        Country           City       State  \\\n",
       "2623     First Class  Home Office  United States  New York City    New York   \n",
       "2697  Standard Class  Home Office  United States   Jacksonville     Florida   \n",
       "4190  Standard Class     Consumer  United States         Newark    Delaware   \n",
       "6826  Standard Class    Corporate  United States      Lafayette     Indiana   \n",
       "8153     First Class     Consumer  United States        Seattle  Washington   \n",
       "\n",
       "      Postal Code   Region    Category Sub-Category      Sales  Quantity  \\\n",
       "2623        10024     East  Technology      Copiers  11199.968         4   \n",
       "2697        32216    South  Technology     Machines  22638.480         6   \n",
       "4190        19711     East  Technology      Copiers  10499.970         3   \n",
       "6826        47905  Central  Technology      Copiers  17499.950         5   \n",
       "8153        98115     West  Technology      Copiers  13999.960         4   \n",
       "\n",
       "      Discount     Profit  \n",
       "2623       0.2  3919.9888  \n",
       "2697       0.5 -1811.0784  \n",
       "4190       0.0  5039.9856  \n",
       "6826       0.0  8399.9760  \n",
       "8153       0.0  6719.9808  "
      ]
     },
     "execution_count": 8,
     "metadata": {},
     "output_type": "execute_result"
    }
   ],
   "source": [
    "data[data['Sales'] > 10000]"
   ]
  },
  {
   "cell_type": "code",
   "execution_count": 9,
   "metadata": {},
   "outputs": [
    {
     "data": {
      "text/html": [
       "<div>\n",
       "<style scoped>\n",
       "    .dataframe tbody tr th:only-of-type {\n",
       "        vertical-align: middle;\n",
       "    }\n",
       "\n",
       "    .dataframe tbody tr th {\n",
       "        vertical-align: top;\n",
       "    }\n",
       "\n",
       "    .dataframe thead th {\n",
       "        text-align: right;\n",
       "    }\n",
       "</style>\n",
       "<table border=\"1\" class=\"dataframe\">\n",
       "  <thead>\n",
       "    <tr style=\"text-align: right;\">\n",
       "      <th></th>\n",
       "      <th>Ship Mode</th>\n",
       "      <th>Segment</th>\n",
       "      <th>Country</th>\n",
       "      <th>City</th>\n",
       "      <th>State</th>\n",
       "      <th>Postal Code</th>\n",
       "      <th>Region</th>\n",
       "      <th>Category</th>\n",
       "      <th>Sub-Category</th>\n",
       "      <th>Sales</th>\n",
       "      <th>Quantity</th>\n",
       "      <th>Discount</th>\n",
       "      <th>Profit</th>\n",
       "    </tr>\n",
       "  </thead>\n",
       "  <tbody>\n",
       "    <tr>\n",
       "      <th>335</th>\n",
       "      <td>Second Class</td>\n",
       "      <td>Consumer</td>\n",
       "      <td>United States</td>\n",
       "      <td>Los Angeles</td>\n",
       "      <td>California</td>\n",
       "      <td>90045</td>\n",
       "      <td>West</td>\n",
       "      <td>Technology</td>\n",
       "      <td>Copiers</td>\n",
       "      <td>959.984</td>\n",
       "      <td>2</td>\n",
       "      <td>0.2</td>\n",
       "      <td>335.9944</td>\n",
       "    </tr>\n",
       "    <tr>\n",
       "      <th>392</th>\n",
       "      <td>Second Class</td>\n",
       "      <td>Consumer</td>\n",
       "      <td>United States</td>\n",
       "      <td>Des Moines</td>\n",
       "      <td>Washington</td>\n",
       "      <td>98198</td>\n",
       "      <td>West</td>\n",
       "      <td>Technology</td>\n",
       "      <td>Copiers</td>\n",
       "      <td>1799.970</td>\n",
       "      <td>3</td>\n",
       "      <td>0.0</td>\n",
       "      <td>701.9883</td>\n",
       "    </tr>\n",
       "    <tr>\n",
       "      <th>406</th>\n",
       "      <td>Standard Class</td>\n",
       "      <td>Consumer</td>\n",
       "      <td>United States</td>\n",
       "      <td>San Francisco</td>\n",
       "      <td>California</td>\n",
       "      <td>94110</td>\n",
       "      <td>West</td>\n",
       "      <td>Technology</td>\n",
       "      <td>Copiers</td>\n",
       "      <td>1199.976</td>\n",
       "      <td>3</td>\n",
       "      <td>0.2</td>\n",
       "      <td>434.9913</td>\n",
       "    </tr>\n",
       "    <tr>\n",
       "      <th>515</th>\n",
       "      <td>Standard Class</td>\n",
       "      <td>Home Office</td>\n",
       "      <td>United States</td>\n",
       "      <td>Great Falls</td>\n",
       "      <td>Montana</td>\n",
       "      <td>59405</td>\n",
       "      <td>West</td>\n",
       "      <td>Technology</td>\n",
       "      <td>Copiers</td>\n",
       "      <td>2999.950</td>\n",
       "      <td>5</td>\n",
       "      <td>0.0</td>\n",
       "      <td>1379.9770</td>\n",
       "    </tr>\n",
       "    <tr>\n",
       "      <th>595</th>\n",
       "      <td>Standard Class</td>\n",
       "      <td>Consumer</td>\n",
       "      <td>United States</td>\n",
       "      <td>San Diego</td>\n",
       "      <td>California</td>\n",
       "      <td>92024</td>\n",
       "      <td>West</td>\n",
       "      <td>Technology</td>\n",
       "      <td>Copiers</td>\n",
       "      <td>1199.976</td>\n",
       "      <td>3</td>\n",
       "      <td>0.2</td>\n",
       "      <td>434.9913</td>\n",
       "    </tr>\n",
       "    <tr>\n",
       "      <th>...</th>\n",
       "      <td>...</td>\n",
       "      <td>...</td>\n",
       "      <td>...</td>\n",
       "      <td>...</td>\n",
       "      <td>...</td>\n",
       "      <td>...</td>\n",
       "      <td>...</td>\n",
       "      <td>...</td>\n",
       "      <td>...</td>\n",
       "      <td>...</td>\n",
       "      <td>...</td>\n",
       "      <td>...</td>\n",
       "      <td>...</td>\n",
       "    </tr>\n",
       "    <tr>\n",
       "      <th>8820</th>\n",
       "      <td>Standard Class</td>\n",
       "      <td>Consumer</td>\n",
       "      <td>United States</td>\n",
       "      <td>Orlando</td>\n",
       "      <td>Florida</td>\n",
       "      <td>32839</td>\n",
       "      <td>South</td>\n",
       "      <td>Technology</td>\n",
       "      <td>Copiers</td>\n",
       "      <td>959.984</td>\n",
       "      <td>2</td>\n",
       "      <td>0.2</td>\n",
       "      <td>311.9948</td>\n",
       "    </tr>\n",
       "    <tr>\n",
       "      <th>8990</th>\n",
       "      <td>Standard Class</td>\n",
       "      <td>Corporate</td>\n",
       "      <td>United States</td>\n",
       "      <td>Springfield</td>\n",
       "      <td>Missouri</td>\n",
       "      <td>65807</td>\n",
       "      <td>Central</td>\n",
       "      <td>Technology</td>\n",
       "      <td>Copiers</td>\n",
       "      <td>4899.930</td>\n",
       "      <td>7</td>\n",
       "      <td>0.0</td>\n",
       "      <td>2302.9671</td>\n",
       "    </tr>\n",
       "    <tr>\n",
       "      <th>9617</th>\n",
       "      <td>Standard Class</td>\n",
       "      <td>Corporate</td>\n",
       "      <td>United States</td>\n",
       "      <td>Bowling Green</td>\n",
       "      <td>Ohio</td>\n",
       "      <td>43402</td>\n",
       "      <td>East</td>\n",
       "      <td>Technology</td>\n",
       "      <td>Copiers</td>\n",
       "      <td>899.982</td>\n",
       "      <td>3</td>\n",
       "      <td>0.4</td>\n",
       "      <td>74.9985</td>\n",
       "    </tr>\n",
       "    <tr>\n",
       "      <th>9839</th>\n",
       "      <td>Standard Class</td>\n",
       "      <td>Consumer</td>\n",
       "      <td>United States</td>\n",
       "      <td>Long Beach</td>\n",
       "      <td>California</td>\n",
       "      <td>90805</td>\n",
       "      <td>West</td>\n",
       "      <td>Technology</td>\n",
       "      <td>Copiers</td>\n",
       "      <td>479.976</td>\n",
       "      <td>3</td>\n",
       "      <td>0.2</td>\n",
       "      <td>161.9919</td>\n",
       "    </tr>\n",
       "    <tr>\n",
       "      <th>9929</th>\n",
       "      <td>Same Day</td>\n",
       "      <td>Consumer</td>\n",
       "      <td>United States</td>\n",
       "      <td>San Francisco</td>\n",
       "      <td>California</td>\n",
       "      <td>94122</td>\n",
       "      <td>West</td>\n",
       "      <td>Technology</td>\n",
       "      <td>Copiers</td>\n",
       "      <td>2799.960</td>\n",
       "      <td>5</td>\n",
       "      <td>0.2</td>\n",
       "      <td>944.9865</td>\n",
       "    </tr>\n",
       "  </tbody>\n",
       "</table>\n",
       "<p>68 rows × 13 columns</p>\n",
       "</div>"
      ],
      "text/plain": [
       "           Ship Mode      Segment        Country           City       State  \\\n",
       "335     Second Class     Consumer  United States    Los Angeles  California   \n",
       "392     Second Class     Consumer  United States     Des Moines  Washington   \n",
       "406   Standard Class     Consumer  United States  San Francisco  California   \n",
       "515   Standard Class  Home Office  United States    Great Falls     Montana   \n",
       "595   Standard Class     Consumer  United States      San Diego  California   \n",
       "...              ...          ...            ...            ...         ...   \n",
       "8820  Standard Class     Consumer  United States        Orlando     Florida   \n",
       "8990  Standard Class    Corporate  United States    Springfield    Missouri   \n",
       "9617  Standard Class    Corporate  United States  Bowling Green        Ohio   \n",
       "9839  Standard Class     Consumer  United States     Long Beach  California   \n",
       "9929        Same Day     Consumer  United States  San Francisco  California   \n",
       "\n",
       "      Postal Code   Region    Category Sub-Category     Sales  Quantity  \\\n",
       "335         90045     West  Technology      Copiers   959.984         2   \n",
       "392         98198     West  Technology      Copiers  1799.970         3   \n",
       "406         94110     West  Technology      Copiers  1199.976         3   \n",
       "515         59405     West  Technology      Copiers  2999.950         5   \n",
       "595         92024     West  Technology      Copiers  1199.976         3   \n",
       "...           ...      ...         ...          ...       ...       ...   \n",
       "8820        32839    South  Technology      Copiers   959.984         2   \n",
       "8990        65807  Central  Technology      Copiers  4899.930         7   \n",
       "9617        43402     East  Technology      Copiers   899.982         3   \n",
       "9839        90805     West  Technology      Copiers   479.976         3   \n",
       "9929        94122     West  Technology      Copiers  2799.960         5   \n",
       "\n",
       "      Discount     Profit  \n",
       "335        0.2   335.9944  \n",
       "392        0.0   701.9883  \n",
       "406        0.2   434.9913  \n",
       "515        0.0  1379.9770  \n",
       "595        0.2   434.9913  \n",
       "...        ...        ...  \n",
       "8820       0.2   311.9948  \n",
       "8990       0.0  2302.9671  \n",
       "9617       0.4    74.9985  \n",
       "9839       0.2   161.9919  \n",
       "9929       0.2   944.9865  \n",
       "\n",
       "[68 rows x 13 columns]"
      ]
     },
     "execution_count": 9,
     "metadata": {},
     "output_type": "execute_result"
    }
   ],
   "source": [
    "data[data['Sub-Category'] == 'Copiers']"
   ]
  },
  {
   "cell_type": "markdown",
   "metadata": {},
   "source": [
    "But, they seem okay since the price of products in the technology sector, i.e copiers and machines can be really high. "
   ]
  },
  {
   "cell_type": "code",
   "execution_count": 10,
   "metadata": {},
   "outputs": [
    {
     "data": {
      "text/plain": [
       "<matplotlib.axes._subplots.AxesSubplot at 0x234595aaa48>"
      ]
     },
     "execution_count": 10,
     "metadata": {},
     "output_type": "execute_result"
    },
    {
     "data": {
      "image/png": "[encoded data removed]",
      "text/plain": [
       "<Figure size 432x288 with 1 Axes>"
      ]
     },
     "metadata": {
      "needs_background": "light"
     },
     "output_type": "display_data"
    }
   ],
   "source": [
    "data['Quantity'].plot.hist()"
   ]
  },
  {
   "cell_type": "code",
   "execution_count": 11,
   "metadata": {},
   "outputs": [
    {
     "data": {
      "text/plain": [
       "<matplotlib.axes._subplots.AxesSubplot at 0x234596338c8>"
      ]
     },
     "execution_count": 11,
     "metadata": {},
     "output_type": "execute_result"
    },
    {
     "data": {
      "image/png": "[encoded data removed]",
      "text/plain": [
       "<Figure size 432x288 with 1 Axes>"
      ]
     },
     "metadata": {
      "needs_background": "light"
     },
     "output_type": "display_data"
    }
   ],
   "source": [
    "data['Quantity'].plot.box()"
   ]
  },
  {
   "cell_type": "code",
   "execution_count": 22,
   "metadata": {},
   "outputs": [
    {
     "data": {
      "text/html": [
       "<div>\n",
       "<style scoped>\n",
       "    .dataframe tbody tr th:only-of-type {\n",
       "        vertical-align: middle;\n",
       "    }\n",
       "\n",
       "    .dataframe tbody tr th {\n",
       "        vertical-align: top;\n",
       "    }\n",
       "\n",
       "    .dataframe thead th {\n",
       "        text-align: right;\n",
       "    }\n",
       "</style>\n",
       "<table border=\"1\" class=\"dataframe\">\n",
       "  <thead>\n",
       "    <tr style=\"text-align: right;\">\n",
       "      <th></th>\n",
       "      <th>Ship Mode</th>\n",
       "      <th>Segment</th>\n",
       "      <th>Country</th>\n",
       "      <th>City</th>\n",
       "      <th>State</th>\n",
       "      <th>Postal Code</th>\n",
       "      <th>Region</th>\n",
       "      <th>Category</th>\n",
       "      <th>Sub-Category</th>\n",
       "      <th>Sales</th>\n",
       "      <th>Quantity</th>\n",
       "      <th>Discount</th>\n",
       "      <th>Profit</th>\n",
       "    </tr>\n",
       "  </thead>\n",
       "  <tbody>\n",
       "    <tr>\n",
       "      <th>10</th>\n",
       "      <td>Standard Class</td>\n",
       "      <td>Consumer</td>\n",
       "      <td>United States</td>\n",
       "      <td>Los Angeles</td>\n",
       "      <td>California</td>\n",
       "      <td>90032</td>\n",
       "      <td>West</td>\n",
       "      <td>Furniture</td>\n",
       "      <td>Tables</td>\n",
       "      <td>1706.184</td>\n",
       "      <td>9</td>\n",
       "      <td>0.2</td>\n",
       "      <td>85.3092</td>\n",
       "    </tr>\n",
       "    <tr>\n",
       "      <th>37</th>\n",
       "      <td>Standard Class</td>\n",
       "      <td>Home Office</td>\n",
       "      <td>United States</td>\n",
       "      <td>Houston</td>\n",
       "      <td>Texas</td>\n",
       "      <td>77041</td>\n",
       "      <td>Central</td>\n",
       "      <td>Office Supplies</td>\n",
       "      <td>Envelopes</td>\n",
       "      <td>113.328</td>\n",
       "      <td>9</td>\n",
       "      <td>0.2</td>\n",
       "      <td>35.4150</td>\n",
       "    </tr>\n",
       "    <tr>\n",
       "      <th>113</th>\n",
       "      <td>Second Class</td>\n",
       "      <td>Consumer</td>\n",
       "      <td>United States</td>\n",
       "      <td>Columbus</td>\n",
       "      <td>Ohio</td>\n",
       "      <td>43229</td>\n",
       "      <td>East</td>\n",
       "      <td>Office Supplies</td>\n",
       "      <td>Fasteners</td>\n",
       "      <td>40.096</td>\n",
       "      <td>14</td>\n",
       "      <td>0.2</td>\n",
       "      <td>14.5348</td>\n",
       "    </tr>\n",
       "    <tr>\n",
       "      <th>122</th>\n",
       "      <td>First Class</td>\n",
       "      <td>Consumer</td>\n",
       "      <td>United States</td>\n",
       "      <td>Wilmington</td>\n",
       "      <td>Delaware</td>\n",
       "      <td>19805</td>\n",
       "      <td>East</td>\n",
       "      <td>Office Supplies</td>\n",
       "      <td>Envelopes</td>\n",
       "      <td>115.020</td>\n",
       "      <td>9</td>\n",
       "      <td>0.0</td>\n",
       "      <td>51.7590</td>\n",
       "    </tr>\n",
       "    <tr>\n",
       "      <th>132</th>\n",
       "      <td>First Class</td>\n",
       "      <td>Corporate</td>\n",
       "      <td>United States</td>\n",
       "      <td>Columbus</td>\n",
       "      <td>Ohio</td>\n",
       "      <td>43229</td>\n",
       "      <td>East</td>\n",
       "      <td>Office Supplies</td>\n",
       "      <td>Fasteners</td>\n",
       "      <td>21.456</td>\n",
       "      <td>9</td>\n",
       "      <td>0.2</td>\n",
       "      <td>6.9732</td>\n",
       "    </tr>\n",
       "    <tr>\n",
       "      <th>...</th>\n",
       "      <td>...</td>\n",
       "      <td>...</td>\n",
       "      <td>...</td>\n",
       "      <td>...</td>\n",
       "      <td>...</td>\n",
       "      <td>...</td>\n",
       "      <td>...</td>\n",
       "      <td>...</td>\n",
       "      <td>...</td>\n",
       "      <td>...</td>\n",
       "      <td>...</td>\n",
       "      <td>...</td>\n",
       "      <td>...</td>\n",
       "    </tr>\n",
       "    <tr>\n",
       "      <th>9895</th>\n",
       "      <td>Standard Class</td>\n",
       "      <td>Consumer</td>\n",
       "      <td>United States</td>\n",
       "      <td>Chicago</td>\n",
       "      <td>Illinois</td>\n",
       "      <td>60623</td>\n",
       "      <td>Central</td>\n",
       "      <td>Technology</td>\n",
       "      <td>Accessories</td>\n",
       "      <td>153.824</td>\n",
       "      <td>11</td>\n",
       "      <td>0.2</td>\n",
       "      <td>38.4560</td>\n",
       "    </tr>\n",
       "    <tr>\n",
       "      <th>9941</th>\n",
       "      <td>Standard Class</td>\n",
       "      <td>Consumer</td>\n",
       "      <td>United States</td>\n",
       "      <td>San Francisco</td>\n",
       "      <td>California</td>\n",
       "      <td>94122</td>\n",
       "      <td>West</td>\n",
       "      <td>Technology</td>\n",
       "      <td>Accessories</td>\n",
       "      <td>223.580</td>\n",
       "      <td>14</td>\n",
       "      <td>0.0</td>\n",
       "      <td>87.1962</td>\n",
       "    </tr>\n",
       "    <tr>\n",
       "      <th>9942</th>\n",
       "      <td>Standard Class</td>\n",
       "      <td>Consumer</td>\n",
       "      <td>United States</td>\n",
       "      <td>Anaheim</td>\n",
       "      <td>California</td>\n",
       "      <td>92804</td>\n",
       "      <td>West</td>\n",
       "      <td>Office Supplies</td>\n",
       "      <td>Storage</td>\n",
       "      <td>998.820</td>\n",
       "      <td>9</td>\n",
       "      <td>0.0</td>\n",
       "      <td>29.9646</td>\n",
       "    </tr>\n",
       "    <tr>\n",
       "      <th>9979</th>\n",
       "      <td>Standard Class</td>\n",
       "      <td>Home Office</td>\n",
       "      <td>United States</td>\n",
       "      <td>Los Angeles</td>\n",
       "      <td>California</td>\n",
       "      <td>90032</td>\n",
       "      <td>West</td>\n",
       "      <td>Office Supplies</td>\n",
       "      <td>Binders</td>\n",
       "      <td>437.472</td>\n",
       "      <td>14</td>\n",
       "      <td>0.2</td>\n",
       "      <td>153.1152</td>\n",
       "    </tr>\n",
       "    <tr>\n",
       "      <th>9984</th>\n",
       "      <td>Standard Class</td>\n",
       "      <td>Consumer</td>\n",
       "      <td>United States</td>\n",
       "      <td>Long Beach</td>\n",
       "      <td>New York</td>\n",
       "      <td>11561</td>\n",
       "      <td>East</td>\n",
       "      <td>Office Supplies</td>\n",
       "      <td>Labels</td>\n",
       "      <td>31.500</td>\n",
       "      <td>10</td>\n",
       "      <td>0.0</td>\n",
       "      <td>15.1200</td>\n",
       "    </tr>\n",
       "  </tbody>\n",
       "</table>\n",
       "<p>428 rows × 13 columns</p>\n",
       "</div>"
      ],
      "text/plain": [
       "           Ship Mode      Segment        Country           City       State  \\\n",
       "10    Standard Class     Consumer  United States    Los Angeles  California   \n",
       "37    Standard Class  Home Office  United States        Houston       Texas   \n",
       "113     Second Class     Consumer  United States       Columbus        Ohio   \n",
       "122      First Class     Consumer  United States     Wilmington    Delaware   \n",
       "132      First Class    Corporate  United States       Columbus        Ohio   \n",
       "...              ...          ...            ...            ...         ...   \n",
       "9895  Standard Class     Consumer  United States        Chicago    Illinois   \n",
       "9941  Standard Class     Consumer  United States  San Francisco  California   \n",
       "9942  Standard Class     Consumer  United States        Anaheim  California   \n",
       "9979  Standard Class  Home Office  United States    Los Angeles  California   \n",
       "9984  Standard Class     Consumer  United States     Long Beach    New York   \n",
       "\n",
       "      Postal Code   Region         Category Sub-Category     Sales  Quantity  \\\n",
       "10          90032     West        Furniture       Tables  1706.184         9   \n",
       "37          77041  Central  Office Supplies    Envelopes   113.328         9   \n",
       "113         43229     East  Office Supplies    Fasteners    40.096        14   \n",
       "122         19805     East  Office Supplies    Envelopes   115.020         9   \n",
       "132         43229     East  Office Supplies    Fasteners    21.456         9   \n",
       "...           ...      ...              ...          ...       ...       ...   \n",
       "9895        60623  Central       Technology  Accessories   153.824        11   \n",
       "9941        94122     West       Technology  Accessories   223.580        14   \n",
       "9942        92804     West  Office Supplies      Storage   998.820         9   \n",
       "9979        90032     West  Office Supplies      Binders   437.472        14   \n",
       "9984        11561     East  Office Supplies       Labels    31.500        10   \n",
       "\n",
       "      Discount    Profit  \n",
       "10         0.2   85.3092  \n",
       "37         0.2   35.4150  \n",
       "113        0.2   14.5348  \n",
       "122        0.0   51.7590  \n",
       "132        0.2    6.9732  \n",
       "...        ...       ...  \n",
       "9895       0.2   38.4560  \n",
       "9941       0.0   87.1962  \n",
       "9942       0.0   29.9646  \n",
       "9979       0.2  153.1152  \n",
       "9984       0.0   15.1200  \n",
       "\n",
       "[428 rows x 13 columns]"
      ]
     },
     "execution_count": 22,
     "metadata": {},
     "output_type": "execute_result"
    }
   ],
   "source": [
    "data[data['Quantity'] > 8]"
   ]
  },
  {
   "cell_type": "markdown",
   "metadata": {},
   "source": [
    "Similarly, the outliers here seem to be okay."
   ]
  },
  {
   "cell_type": "code",
   "execution_count": 23,
   "metadata": {},
   "outputs": [
    {
     "data": {
      "text/plain": [
       "<matplotlib.axes._subplots.AxesSubplot at 0x23459981748>"
      ]
     },
     "execution_count": 23,
     "metadata": {},
     "output_type": "execute_result"
    },
    {
     "data": {
      "image/png": "[encoded data removed]",
      "text/plain": [
       "<Figure size 432x288 with 1 Axes>"
      ]
     },
     "metadata": {
      "needs_background": "light"
     },
     "output_type": "display_data"
    }
   ],
   "source": [
    "data['Profit'].plot.hist()"
   ]
  },
  {
   "cell_type": "code",
   "execution_count": 24,
   "metadata": {},
   "outputs": [
    {
     "data": {
      "text/plain": [
       "<matplotlib.axes._subplots.AxesSubplot at 0x234599fa5c8>"
      ]
     },
     "execution_count": 24,
     "metadata": {},
     "output_type": "execute_result"
    },
    {
     "data": {
      "image/png": "[encoded data removed]",
      "text/plain": [
       "<Figure size 432x288 with 1 Axes>"
      ]
     },
     "metadata": {
      "needs_background": "light"
     },
     "output_type": "display_data"
    }
   ],
   "source": [
    "data['Profit'].plot.box()"
   ]
  },
  {
   "cell_type": "code",
   "execution_count": 38,
   "metadata": {},
   "outputs": [
    {
     "data": {
      "text/plain": [
       "<matplotlib.axes._subplots.AxesSubplot at 0x23459df5788>"
      ]
     },
     "execution_count": 38,
     "metadata": {},
     "output_type": "execute_result"
    },
    {
     "data": {
      "image/png": "[encoded data removed]",
      "text/plain": [
       "<Figure size 432x288 with 1 Axes>"
      ]
     },
     "metadata": {
      "needs_background": "light"
     },
     "output_type": "display_data"
    }
   ],
   "source": [
    "data['Discount'].plot.hist()"
   ]
  },
  {
   "cell_type": "code",
   "execution_count": 39,
   "metadata": {},
   "outputs": [
    {
     "data": {
      "text/plain": [
       "<matplotlib.axes._subplots.AxesSubplot at 0x23459cc7448>"
      ]
     },
     "execution_count": 39,
     "metadata": {},
     "output_type": "execute_result"
    },
    {
     "data": {
      "image/png": "[encoded data removed]",
      "text/plain": [
       "<Figure size 432x288 with 1 Axes>"
      ]
     },
     "metadata": {
      "needs_background": "light"
     },
     "output_type": "display_data"
    }
   ],
   "source": [
    "data['Discount'].plot.box()"
   ]
  },
  {
   "cell_type": "markdown",
   "metadata": {},
   "source": [
    "#### b) Categorical Variables"
   ]
  },
  {
   "cell_type": "code",
   "execution_count": 25,
   "metadata": {},
   "outputs": [
    {
     "data": {
      "text/plain": [
       "Standard Class    5968\n",
       "Second Class      1945\n",
       "First Class       1538\n",
       "Same Day           543\n",
       "Name: Ship Mode, dtype: int64"
      ]
     },
     "execution_count": 25,
     "metadata": {},
     "output_type": "execute_result"
    }
   ],
   "source": [
    "data['Ship Mode'].value_counts()"
   ]
  },
  {
   "cell_type": "code",
   "execution_count": 56,
   "metadata": {},
   "outputs": [
    {
     "data": {
      "text/plain": [
       "<matplotlib.axes._subplots.AxesSubplot at 0x2345ba9bd48>"
      ]
     },
     "execution_count": 56,
     "metadata": {},
     "output_type": "execute_result"
    },
    {
     "data": {
      "image/png": "[encoded data removed]",
      "text/plain": [
       "<Figure size 432x288 with 1 Axes>"
      ]
     },
     "metadata": {
      "needs_background": "light"
     },
     "output_type": "display_data"
    }
   ],
   "source": [
    "(data['Ship Mode'].value_counts()/len(data['Ship Mode'])).plot.bar()"
   ]
  },
  {
   "cell_type": "markdown",
   "metadata": {},
   "source": [
    "<ul>\n",
    "    <li><b>Same day shipping mode</b> is the least used mode(less than 10%).</li>\n",
    "    <li>Standard class is the most used mode of shipping(~60%).</li>\n",
    "</ul>"
   ]
  },
  {
   "cell_type": "code",
   "execution_count": 27,
   "metadata": {},
   "outputs": [
    {
     "data": {
      "text/plain": [
       "Office Supplies    6026\n",
       "Furniture          2121\n",
       "Technology         1847\n",
       "Name: Category, dtype: int64"
      ]
     },
     "execution_count": 27,
     "metadata": {},
     "output_type": "execute_result"
    }
   ],
   "source": [
    "data['Category'].value_counts()"
   ]
  },
  {
   "cell_type": "code",
   "execution_count": 55,
   "metadata": {},
   "outputs": [
    {
     "data": {
      "text/plain": [
       "<matplotlib.axes._subplots.AxesSubplot at 0x2345ba5d188>"
      ]
     },
     "execution_count": 55,
     "metadata": {},
     "output_type": "execute_result"
    },
    {
     "data": {
      "image/png": "[encoded data removed]",
      "text/plain": [
       "<Figure size 432x288 with 1 Axes>"
      ]
     },
     "metadata": {
      "needs_background": "light"
     },
     "output_type": "display_data"
    }
   ],
   "source": [
    "(data['Category'].value_counts()/len(data['Category'])).plot.bar()"
   ]
  },
  {
   "cell_type": "markdown",
   "metadata": {},
   "source": [
    "<ul>\n",
    "    <li>Products of <b>technology</b> are the least purchased(less than 20%). The products of furniture are also least purchased with 20%</li>\n",
    "    <li>Products of office supplies are the most purchased(~60%).</li>\n",
    "</ul>"
   ]
  },
  {
   "cell_type": "code",
   "execution_count": 29,
   "metadata": {},
   "outputs": [
    {
     "data": {
      "text/plain": [
       "Binders        1523\n",
       "Paper          1370\n",
       "Furnishings     957\n",
       "Phones          889\n",
       "Storage         846\n",
       "Art             796\n",
       "Accessories     775\n",
       "Chairs          617\n",
       "Appliances      466\n",
       "Labels          364\n",
       "Tables          319\n",
       "Envelopes       254\n",
       "Bookcases       228\n",
       "Fasteners       217\n",
       "Supplies        190\n",
       "Machines        115\n",
       "Copiers          68\n",
       "Name: Sub-Category, dtype: int64"
      ]
     },
     "execution_count": 29,
     "metadata": {},
     "output_type": "execute_result"
    }
   ],
   "source": [
    "data['Sub-Category'].value_counts()"
   ]
  },
  {
   "cell_type": "code",
   "execution_count": 58,
   "metadata": {},
   "outputs": [
    {
     "data": {
      "text/plain": [
       "<matplotlib.axes._subplots.AxesSubplot at 0x2345bb2b308>"
      ]
     },
     "execution_count": 58,
     "metadata": {},
     "output_type": "execute_result"
    },
    {
     "data": {
      "image/png": "[encoded data removed]",
      "text/plain": [
       "<Figure size 432x288 with 1 Axes>"
      ]
     },
     "metadata": {
      "needs_background": "light"
     },
     "output_type": "display_data"
    }
   ],
   "source": [
    "(data['Sub-Category'].value_counts()/len(data['Sub-Category'])).plot.bar()"
   ]
  },
  {
   "cell_type": "markdown",
   "metadata": {},
   "source": [
    "<ul>\n",
    "    <li><b>Copiers</b> are the least purchased products(less than 2%)</li>\n",
    "    <li>Blinders are the most purchased products(~16%)</li>\n",
    "</ul>"
   ]
  },
  {
   "cell_type": "code",
   "execution_count": 31,
   "metadata": {},
   "outputs": [
    {
     "data": {
      "text/plain": [
       "West       3203\n",
       "East       2848\n",
       "Central    2323\n",
       "South      1620\n",
       "Name: Region, dtype: int64"
      ]
     },
     "execution_count": 31,
     "metadata": {},
     "output_type": "execute_result"
    }
   ],
   "source": [
    "data['Region'].value_counts()"
   ]
  },
  {
   "cell_type": "code",
   "execution_count": 59,
   "metadata": {},
   "outputs": [
    {
     "data": {
      "text/plain": [
       "<matplotlib.axes._subplots.AxesSubplot at 0x2345bbc5b08>"
      ]
     },
     "execution_count": 59,
     "metadata": {},
     "output_type": "execute_result"
    },
    {
     "data": {
      "image/png": "[encoded data removed]",
      "text/plain": [
       "<Figure size 432x288 with 1 Axes>"
      ]
     },
     "metadata": {
      "needs_background": "light"
     },
     "output_type": "display_data"
    }
   ],
   "source": [
    "(data['Region'].value_counts()/len(data['Region'])).plot.bar()"
   ]
  },
  {
   "cell_type": "markdown",
   "metadata": {},
   "source": [
    "<ul>\n",
    "    <li><b>South region</b> has the least number of sales(~16%).</li>\n",
    "    <li>West region has the most number of sales(greater than 30%).</li>\n",
    "</ul>"
   ]
  },
  {
   "cell_type": "code",
   "execution_count": 33,
   "metadata": {},
   "outputs": [
    {
     "data": {
      "text/plain": [
       "New York City     915\n",
       "Los Angeles       747\n",
       "Philadelphia      537\n",
       "San Francisco     510\n",
       "Seattle           428\n",
       "                 ... \n",
       "Waukesha            1\n",
       "Abilene             1\n",
       "Redding             1\n",
       "Citrus Heights      1\n",
       "Yucaipa             1\n",
       "Name: City, Length: 531, dtype: int64"
      ]
     },
     "execution_count": 33,
     "metadata": {},
     "output_type": "execute_result"
    }
   ],
   "source": [
    "data['City'].value_counts()"
   ]
  },
  {
   "cell_type": "code",
   "execution_count": 34,
   "metadata": {},
   "outputs": [
    {
     "data": {
      "text/plain": [
       "California              2001\n",
       "New York                1128\n",
       "Texas                    985\n",
       "Pennsylvania             587\n",
       "Washington               506\n",
       "Illinois                 492\n",
       "Ohio                     469\n",
       "Florida                  383\n",
       "Michigan                 255\n",
       "North Carolina           249\n",
       "Virginia                 224\n",
       "Arizona                  224\n",
       "Georgia                  184\n",
       "Tennessee                183\n",
       "Colorado                 182\n",
       "Indiana                  149\n",
       "Kentucky                 139\n",
       "Massachusetts            135\n",
       "New Jersey               130\n",
       "Oregon                   124\n",
       "Wisconsin                110\n",
       "Maryland                 105\n",
       "Delaware                  96\n",
       "Minnesota                 89\n",
       "Connecticut               82\n",
       "Missouri                  66\n",
       "Oklahoma                  66\n",
       "Alabama                   61\n",
       "Arkansas                  60\n",
       "Rhode Island              56\n",
       "Utah                      53\n",
       "Mississippi               53\n",
       "South Carolina            42\n",
       "Louisiana                 42\n",
       "Nevada                    39\n",
       "Nebraska                  38\n",
       "New Mexico                37\n",
       "Iowa                      30\n",
       "New Hampshire             27\n",
       "Kansas                    24\n",
       "Idaho                     21\n",
       "Montana                   15\n",
       "South Dakota              12\n",
       "Vermont                   11\n",
       "District of Columbia      10\n",
       "Maine                      8\n",
       "North Dakota               7\n",
       "West Virginia              4\n",
       "Wyoming                    1\n",
       "Name: State, dtype: int64"
      ]
     },
     "execution_count": 34,
     "metadata": {},
     "output_type": "execute_result"
    }
   ],
   "source": [
    "data['State'].value_counts()"
   ]
  },
  {
   "cell_type": "code",
   "execution_count": 60,
   "metadata": {},
   "outputs": [
    {
     "data": {
      "text/plain": [
       "<matplotlib.axes._subplots.AxesSubplot at 0x2345bc4dec8>"
      ]
     },
     "execution_count": 60,
     "metadata": {},
     "output_type": "execute_result"
    },
    {
     "data": {
      "image/png": "[encoded data removed]",
      "text/plain": [
       "<Figure size 1440x360 with 1 Axes>"
      ]
     },
     "metadata": {
      "needs_background": "light"
     },
     "output_type": "display_data"
    }
   ],
   "source": [
    "(data['State'].value_counts()/len(data['State'])).plot.bar(figsize=(20,5))"
   ]
  },
  {
   "cell_type": "markdown",
   "metadata": {},
   "source": [
    "<ul>\n",
    "    <li><b>Wyoming</b> state has the least number of purchases(less than 1%).</li>\n",
    "    <li>California state has the most number of purchases(~20%).</li>\n",
    "</ul>"
   ]
  },
  {
   "cell_type": "code",
   "execution_count": 36,
   "metadata": {},
   "outputs": [
    {
     "data": {
      "text/plain": [
       "Consumer       5191\n",
       "Corporate      3020\n",
       "Home Office    1783\n",
       "Name: Segment, dtype: int64"
      ]
     },
     "execution_count": 36,
     "metadata": {},
     "output_type": "execute_result"
    }
   ],
   "source": [
    "data['Segment'].value_counts()"
   ]
  },
  {
   "cell_type": "code",
   "execution_count": 61,
   "metadata": {},
   "outputs": [
    {
     "data": {
      "text/plain": [
       "<matplotlib.axes._subplots.AxesSubplot at 0x2345bfb8948>"
      ]
     },
     "execution_count": 61,
     "metadata": {},
     "output_type": "execute_result"
    },
    {
     "data": {
      "image/png": "[encoded data removed]",
      "text/plain": [
       "<Figure size 432x288 with 1 Axes>"
      ]
     },
     "metadata": {
      "needs_background": "light"
     },
     "output_type": "display_data"
    }
   ],
   "source": [
    "(data['Segment'].value_counts()/len(data['Segment'])).plot.bar()"
   ]
  },
  {
   "cell_type": "markdown",
   "metadata": {},
   "source": [
    "<ul>\n",
    "    <li><b>Home offices</b> purchase the least often(less than 20%).</li>\n",
    "    <li>Consumers purchase the most often(greater than 50%).</li>\n",
    "</ul>"
   ]
  },
  {
   "cell_type": "markdown",
   "metadata": {},
   "source": [
    "### 4. Bivariate Analysis"
   ]
  },
  {
   "cell_type": "markdown",
   "metadata": {},
   "source": [
    "#### a) Continuous - Continuous Variables\n"
   ]
  },
  {
   "cell_type": "code",
   "execution_count": 40,
   "metadata": {},
   "outputs": [
    {
     "data": {
      "text/plain": [
       "<matplotlib.axes._subplots.AxesSubplot at 0x23459ec9988>"
      ]
     },
     "execution_count": 40,
     "metadata": {},
     "output_type": "execute_result"
    },
    {
     "data": {
      "image/png": "[encoded data removed]",
      "text/plain": [
       "<Figure size 432x288 with 1 Axes>"
      ]
     },
     "metadata": {
      "needs_background": "light"
     },
     "output_type": "display_data"
    }
   ],
   "source": [
    "# Sales vs Profit\n",
    "\n",
    "data.plot.scatter('Sales', 'Profit')"
   ]
  },
  {
   "cell_type": "code",
   "execution_count": 41,
   "metadata": {},
   "outputs": [
    {
     "data": {
      "text/plain": [
       "0.4790643497377058"
      ]
     },
     "execution_count": 41,
     "metadata": {},
     "output_type": "execute_result"
    }
   ],
   "source": [
    "data['Sales'].corr(data['Profit'])"
   ]
  },
  {
   "cell_type": "markdown",
   "metadata": {},
   "source": [
    "<b>There is little strong positive relation between sales and profit.\n",
    "<br>There are points of low profit to be identified and rectified.</b>"
   ]
  },
  {
   "cell_type": "code",
   "execution_count": 42,
   "metadata": {},
   "outputs": [
    {
     "data": {
      "text/plain": [
       "<matplotlib.axes._subplots.AxesSubplot at 0x23459f44fc8>"
      ]
     },
     "execution_count": 42,
     "metadata": {},
     "output_type": "execute_result"
    },
    {
     "data": {
      "image/png": "[encoded data removed]",
      "text/plain": [
       "<Figure size 432x288 with 1 Axes>"
      ]
     },
     "metadata": {
      "needs_background": "light"
     },
     "output_type": "display_data"
    }
   ],
   "source": [
    "# Quantity vs Profit\n",
    "\n",
    "data.plot.scatter('Quantity', 'Profit')"
   ]
  },
  {
   "cell_type": "code",
   "execution_count": 43,
   "metadata": {},
   "outputs": [
    {
     "data": {
      "text/plain": [
       "0.06625318912428485"
      ]
     },
     "execution_count": 43,
     "metadata": {},
     "output_type": "execute_result"
    }
   ],
   "source": [
    "data['Quantity'].corr(data['Profit'])"
   ]
  },
  {
   "cell_type": "markdown",
   "metadata": {},
   "source": [
    "There is no relationship between Ouantity and profit."
   ]
  },
  {
   "cell_type": "code",
   "execution_count": 44,
   "metadata": {},
   "outputs": [
    {
     "data": {
      "text/plain": [
       "<matplotlib.axes._subplots.AxesSubplot at 0x2345b5a61c8>"
      ]
     },
     "execution_count": 44,
     "metadata": {},
     "output_type": "execute_result"
    },
    {
     "data": {
      "image/png": "[encoded data removed]",
      "text/plain": [
       "<Figure size 432x288 with 1 Axes>"
      ]
     },
     "metadata": {
      "needs_background": "light"
     },
     "output_type": "display_data"
    }
   ],
   "source": [
    "# Discount vs Profit\n",
    "\n",
    "data.plot.scatter('Discount', 'Profit')"
   ]
  },
  {
   "cell_type": "code",
   "execution_count": 45,
   "metadata": {},
   "outputs": [
    {
     "data": {
      "text/plain": [
       "-0.21948745637176806"
      ]
     },
     "execution_count": 45,
     "metadata": {},
     "output_type": "execute_result"
    }
   ],
   "source": [
    "data['Discount'].corr(data['Profit'])"
   ]
  },
  {
   "cell_type": "markdown",
   "metadata": {},
   "source": [
    "<b> There is a negative correlation between Discount and Profit.</b>"
   ]
  },
  {
   "cell_type": "code",
   "execution_count": 46,
   "metadata": {},
   "outputs": [
    {
     "data": {
      "text/plain": [
       "<matplotlib.axes._subplots.AxesSubplot at 0x23458d9cb08>"
      ]
     },
     "execution_count": 46,
     "metadata": {},
     "output_type": "execute_result"
    },
    {
     "data": {
      "image/png": "[encoded data removed]",
      "text/plain": [
       "<Figure size 432x288 with 1 Axes>"
      ]
     },
     "metadata": {
      "needs_background": "light"
     },
     "output_type": "display_data"
    }
   ],
   "source": [
    "# Sales vs Discount\n",
    "\n",
    "data.plot.scatter('Sales', 'Discount')"
   ]
  },
  {
   "cell_type": "code",
   "execution_count": 47,
   "metadata": {},
   "outputs": [
    {
     "data": {
      "text/plain": [
       "-0.02819012415753552"
      ]
     },
     "execution_count": 47,
     "metadata": {},
     "output_type": "execute_result"
    }
   ],
   "source": [
    "data['Sales'].corr(data['Discount'])"
   ]
  },
  {
   "cell_type": "markdown",
   "metadata": {},
   "source": [
    "There is no relationship between Sales and Discount"
   ]
  },
  {
   "cell_type": "code",
   "execution_count": 48,
   "metadata": {},
   "outputs": [
    {
     "data": {
      "text/plain": [
       "<matplotlib.axes._subplots.AxesSubplot at 0x2345b66dac8>"
      ]
     },
     "execution_count": 48,
     "metadata": {},
     "output_type": "execute_result"
    },
    {
     "data": {
      "image/png": "[encoded data removed]",
      "text/plain": [
       "<Figure size 432x288 with 1 Axes>"
      ]
     },
     "metadata": {
      "needs_background": "light"
     },
     "output_type": "display_data"
    }
   ],
   "source": [
    "data.plot.scatter('Discount', 'Quantity')"
   ]
  },
  {
   "cell_type": "code",
   "execution_count": 50,
   "metadata": {},
   "outputs": [
    {
     "data": {
      "text/plain": [
       "0.008622970271156561"
      ]
     },
     "execution_count": 50,
     "metadata": {},
     "output_type": "execute_result"
    }
   ],
   "source": [
    "data['Discount'].corr(data['Quantity'])"
   ]
  },
  {
   "cell_type": "markdown",
   "metadata": {},
   "source": [
    "There is a negligible positive relationship between Discount and Quantity."
   ]
  },
  {
   "cell_type": "code",
   "execution_count": 74,
   "metadata": {},
   "outputs": [
    {
     "data": {
      "text/plain": [
       "<matplotlib.axes._subplots.AxesSubplot at 0x2346544ce88>"
      ]
     },
     "execution_count": 74,
     "metadata": {},
     "output_type": "execute_result"
    },
    {
     "data": {
      "image/png": "[encoded data removed]",
      "text/plain": [
       "<Figure size 432x288 with 2 Axes>"
      ]
     },
     "metadata": {
      "needs_background": "light"
     },
     "output_type": "display_data"
    }
   ],
   "source": [
    "cor = data.corr()\n",
    "sns.heatmap(cor)"
   ]
  },
  {
   "cell_type": "raw",
   "metadata": {},
   "source": [
    "#### b) Categorical - Continuous Variable Analysis"
   ]
  },
  {
   "cell_type": "code",
   "execution_count": 51,
   "metadata": {},
   "outputs": [
    {
     "data": {
      "text/plain": [
       "<matplotlib.axes._subplots.AxesSubplot at 0x2345b9424c8>"
      ]
     },
     "execution_count": 51,
     "metadata": {},
     "output_type": "execute_result"
    },
    {
     "data": {
      "image/png": "[encoded data removed]",
      "text/plain": [
       "<Figure size 432x288 with 1 Axes>"
      ]
     },
     "metadata": {
      "needs_background": "light"
     },
     "output_type": "display_data"
    }
   ],
   "source": [
    "data.groupby('Segment')['Profit'].mean().plot.bar()"
   ]
  },
  {
   "cell_type": "code",
   "execution_count": 63,
   "metadata": {},
   "outputs": [
    {
     "data": {
      "text/plain": [
       "Ttest_indResult(statistic=-0.8455016352008224, pvalue=0.39785546298166463)"
      ]
     },
     "execution_count": 63,
     "metadata": {},
     "output_type": "execute_result"
    }
   ],
   "source": [
    "#two sample test\n",
    "\n",
    "from scipy.stats import ttest_ind\n",
    "consumer = data[data['Segment'] == 'Consumer']\n",
    "corporate = data[data['Segment'] == 'Corporate']\n",
    "home = data[data['Segment'] == 'Home Offi(ce']\n",
    "ttest_ind(consumer['Profit'], corporate['Profit'])"
   ]
  },
  {
   "cell_type": "markdown",
   "metadata": {},
   "source": [
    "p is very much greater.So:<br>\n",
    "<b>Although the consumer segment purchased more and produced maximum profit, the average profit is given more by the Home offices class. This means statistically, they are same, and no weak areas can be identified.</b><br>\n",
    "### Price of products purchased by consumers can be increased a little to boost the average profit, since they are the most purchased ones."
   ]
  },
  {
   "cell_type": "code",
   "execution_count": 66,
   "metadata": {},
   "outputs": [
    {
     "data": {
      "text/plain": [
       "<matplotlib.axes._subplots.AxesSubplot at 0x23463b328c8>"
      ]
     },
     "execution_count": 66,
     "metadata": {},
     "output_type": "execute_result"
    },
    {
     "data": {
      "image/png": "[encoded data removed]",
      "text/plain": [
       "<Figure size 432x288 with 1 Axes>"
      ]
     },
     "metadata": {
      "needs_background": "light"
     },
     "output_type": "display_data"
    }
   ],
   "source": [
    "data.groupby('Ship Mode')['Profit'].mean().plot.bar()"
   ]
  },
  {
   "cell_type": "markdown",
   "metadata": {},
   "source": [
    "<b>Although standard class mode of shipping was the most popular and gave the most profit, statistically, all the modes produce same average profit, with First class giving the most. So there are are no weak arears here.</b><br>\n",
    "### The cost of standard shipping mode can be increased a little to boost up the average profit, if needed."
   ]
  },
  {
   "cell_type": "code",
   "execution_count": 67,
   "metadata": {},
   "outputs": [
    {
     "data": {
      "text/plain": [
       "<matplotlib.axes._subplots.AxesSubplot at 0x23463f17b08>"
      ]
     },
     "execution_count": 67,
     "metadata": {},
     "output_type": "execute_result"
    },
    {
     "data": {
      "image/png": "[encoded data removed]",
      "text/plain": [
       "<Figure size 432x288 with 1 Axes>"
      ]
     },
     "metadata": {
      "needs_background": "light"
     },
     "output_type": "display_data"
    }
   ],
   "source": [
    "data.groupby('Category')['Profit'].mean().plot.bar()"
   ]
  },
  {
   "cell_type": "markdown",
   "metadata": {},
   "source": [
    "<b> Technology products give more profit, even though the number of purchases are less.</b>"
   ]
  },
  {
   "cell_type": "code",
   "execution_count": 68,
   "metadata": {},
   "outputs": [
    {
     "data": {
      "text/plain": [
       "<matplotlib.axes._subplots.AxesSubplot at 0x234642ef3c8>"
      ]
     },
     "execution_count": 68,
     "metadata": {},
     "output_type": "execute_result"
    },
    {
     "data": {
      "image/png": "[encoded data removed]",
      "text/plain": [
       "<Figure size 1440x360 with 1 Axes>"
      ]
     },
     "metadata": {
      "needs_background": "light"
     },
     "output_type": "display_data"
    }
   ],
   "source": [
    "data.groupby('Sub-Category')['Profit'].mean().plot.bar(figsize=(20,5))"
   ]
  },
  {
   "cell_type": "markdown",
   "metadata": {},
   "source": [
    "<b>Even though, Binders are the most purchased products, Copiers make the most average profit due to its high price.</b>"
   ]
  },
  {
   "cell_type": "code",
   "execution_count": 69,
   "metadata": {},
   "outputs": [
    {
     "data": {
      "text/plain": [
       "<matplotlib.axes._subplots.AxesSubplot at 0x234648eae08>"
      ]
     },
     "execution_count": 69,
     "metadata": {},
     "output_type": "execute_result"
    },
    {
     "data": {
      "image/png": "[encoded data removed]",
      "text/plain": [
       "<Figure size 1440x504 with 1 Axes>"
      ]
     },
     "metadata": {
      "needs_background": "light"
     },
     "output_type": "display_data"
    }
   ],
   "source": [
    "data.groupby('State')['Profit'].mean().plot.bar(figsize=(20, 7))"
   ]
  },
  {
   "cell_type": "markdown",
   "metadata": {},
   "source": [
    "<b> The cities, Ohio and Colorado make the least negative average profit, even after having a fair amount of purchases. Also, although the number of purchases are less in Wyonmig are less, they make better profit.</b>\n",
    "\n",
    "### Aizona, Colorado, Florida, Illinois, North Carolina, Ohio, Oregon, Pennsylvania, Tennesse and Texas have are running in losses."
   ]
  },
  {
   "cell_type": "code",
   "execution_count": 70,
   "metadata": {},
   "outputs": [
    {
     "data": {
      "text/plain": [
       "<matplotlib.axes._subplots.AxesSubplot at 0x23464957988>"
      ]
     },
     "execution_count": 70,
     "metadata": {},
     "output_type": "execute_result"
    },
    {
     "data": {
      "image/png": "[encoded data removed]",
      "text/plain": [
       "<Figure size 432x288 with 1 Axes>"
      ]
     },
     "metadata": {
      "needs_background": "light"
     },
     "output_type": "display_data"
    }
   ],
   "source": [
    "data.groupby('Region')['Profit'].mean().plot.bar()"
   ]
  },
  {
   "cell_type": "markdown",
   "metadata": {},
   "source": [
    "<b> Central region is having the least amount of average profit.</b>"
   ]
  },
  {
   "cell_type": "markdown",
   "metadata": {},
   "source": [
    "#### c) Categorical - Categorical Variable"
   ]
  },
  {
   "cell_type": "code",
   "execution_count": 71,
   "metadata": {},
   "outputs": [
    {
     "data": {
      "text/html": [
       "<div>\n",
       "<style scoped>\n",
       "    .dataframe tbody tr th:only-of-type {\n",
       "        vertical-align: middle;\n",
       "    }\n",
       "\n",
       "    .dataframe tbody tr th {\n",
       "        vertical-align: top;\n",
       "    }\n",
       "\n",
       "    .dataframe thead th {\n",
       "        text-align: right;\n",
       "    }\n",
       "</style>\n",
       "<table border=\"1\" class=\"dataframe\">\n",
       "  <thead>\n",
       "    <tr style=\"text-align: right;\">\n",
       "      <th>Ship Mode</th>\n",
       "      <th>First Class</th>\n",
       "      <th>Same Day</th>\n",
       "      <th>Second Class</th>\n",
       "      <th>Standard Class</th>\n",
       "    </tr>\n",
       "    <tr>\n",
       "      <th>Segment</th>\n",
       "      <th></th>\n",
       "      <th></th>\n",
       "      <th></th>\n",
       "      <th></th>\n",
       "    </tr>\n",
       "  </thead>\n",
       "  <tbody>\n",
       "    <tr>\n",
       "      <th>Consumer</th>\n",
       "      <td>769</td>\n",
       "      <td>317</td>\n",
       "      <td>1020</td>\n",
       "      <td>3085</td>\n",
       "    </tr>\n",
       "    <tr>\n",
       "      <th>Corporate</th>\n",
       "      <td>485</td>\n",
       "      <td>114</td>\n",
       "      <td>609</td>\n",
       "      <td>1812</td>\n",
       "    </tr>\n",
       "    <tr>\n",
       "      <th>Home Office</th>\n",
       "      <td>284</td>\n",
       "      <td>112</td>\n",
       "      <td>316</td>\n",
       "      <td>1071</td>\n",
       "    </tr>\n",
       "  </tbody>\n",
       "</table>\n",
       "</div>"
      ],
      "text/plain": [
       "Ship Mode    First Class  Same Day  Second Class  Standard Class\n",
       "Segment                                                         \n",
       "Consumer             769       317          1020            3085\n",
       "Corporate            485       114           609            1812\n",
       "Home Office          284       112           316            1071"
      ]
     },
     "execution_count": 71,
     "metadata": {},
     "output_type": "execute_result"
    }
   ],
   "source": [
    "pd.crosstab(data['Segment'], data['Ship Mode'])"
   ]
  },
  {
   "cell_type": "code",
   "execution_count": 72,
   "metadata": {},
   "outputs": [
    {
     "data": {
      "text/plain": [
       "(28.097944167868896,\n",
       " 9.005463273040477e-05,\n",
       " 6,\n",
       " array([[ 798.85511307,  282.04052431, 1010.25565339, 3099.84870923],\n",
       "        [ 464.75485291,  164.08445067,  587.74264559, 1803.41805083],\n",
       "        [ 274.39003402,   96.87502502,  347.00170102, 1064.73323994]]))"
      ]
     },
     "execution_count": 72,
     "metadata": {},
     "output_type": "execute_result"
    }
   ],
   "source": [
    "#chi square test\n",
    "\n",
    "from scipy.stats import chi2_contingency\n",
    "\n",
    "chi2_contingency(pd.crosstab(data['Segment'], data['Ship Mode']))"
   ]
  },
  {
   "cell_type": "code",
   "execution_count": 41,
   "metadata": {},
   "outputs": [
    {
     "data": {
      "text/html": [
       "<div>\n",
       "<style scoped>\n",
       "    .dataframe tbody tr th:only-of-type {\n",
       "        vertical-align: middle;\n",
       "    }\n",
       "\n",
       "    .dataframe tbody tr th {\n",
       "        vertical-align: top;\n",
       "    }\n",
       "\n",
       "    .dataframe thead th {\n",
       "        text-align: right;\n",
       "    }\n",
       "</style>\n",
       "<table border=\"1\" class=\"dataframe\">\n",
       "  <thead>\n",
       "    <tr style=\"text-align: right;\">\n",
       "      <th>Ship Mode</th>\n",
       "      <th>First Class</th>\n",
       "      <th>Same Day</th>\n",
       "      <th>Second Class</th>\n",
       "      <th>Standard Class</th>\n",
       "    </tr>\n",
       "    <tr>\n",
       "      <th>Region</th>\n",
       "      <th></th>\n",
       "      <th></th>\n",
       "      <th></th>\n",
       "      <th></th>\n",
       "    </tr>\n",
       "  </thead>\n",
       "  <tbody>\n",
       "    <tr>\n",
       "      <th>Central</th>\n",
       "      <td>299</td>\n",
       "      <td>120</td>\n",
       "      <td>465</td>\n",
       "      <td>1439</td>\n",
       "    </tr>\n",
       "    <tr>\n",
       "      <th>East</th>\n",
       "      <td>490</td>\n",
       "      <td>155</td>\n",
       "      <td>530</td>\n",
       "      <td>1673</td>\n",
       "    </tr>\n",
       "    <tr>\n",
       "      <th>South</th>\n",
       "      <td>234</td>\n",
       "      <td>83</td>\n",
       "      <td>329</td>\n",
       "      <td>974</td>\n",
       "    </tr>\n",
       "    <tr>\n",
       "      <th>West</th>\n",
       "      <td>515</td>\n",
       "      <td>185</td>\n",
       "      <td>621</td>\n",
       "      <td>1882</td>\n",
       "    </tr>\n",
       "  </tbody>\n",
       "</table>\n",
       "</div>"
      ],
      "text/plain": [
       "Ship Mode  First Class  Same Day  Second Class  Standard Class\n",
       "Region                                                        \n",
       "Central            299       120           465            1439\n",
       "East               490       155           530            1673\n",
       "South              234        83           329             974\n",
       "West               515       185           621            1882"
      ]
     },
     "execution_count": 41,
     "metadata": {},
     "output_type": "execute_result"
    }
   ],
   "source": [
    "pd.crosstab(data['Region'], data['Ship Mode'])"
   ]
  },
  {
   "cell_type": "code",
   "execution_count": 42,
   "metadata": {},
   "outputs": [
    {
     "data": {
      "text/plain": [
       "(23.846239703707703,\n",
       " 0.004551137492452852,\n",
       " 9,\n",
       " array([[ 357.49189514,  126.21462878,  452.09475685, 1387.19871923],\n",
       "        [ 438.28537122,  154.73924355,  554.26856114, 1700.70682409],\n",
       "        [ 249.30558335,   88.01881129,  315.2791675 ,  967.39643786],\n",
       "        [ 492.91715029,  174.02731639,  623.35751451, 1912.69801881]]))"
      ]
     },
     "execution_count": 42,
     "metadata": {},
     "output_type": "execute_result"
    }
   ],
   "source": [
    "chi2_contingency(pd.crosstab(data['Region'], data['Ship Mode']))"
   ]
  },
  {
   "cell_type": "code",
   "execution_count": 75,
   "metadata": {},
   "outputs": [
    {
     "data": {
      "text/html": [
       "<div>\n",
       "<style scoped>\n",
       "    .dataframe tbody tr th:only-of-type {\n",
       "        vertical-align: middle;\n",
       "    }\n",
       "\n",
       "    .dataframe tbody tr th {\n",
       "        vertical-align: top;\n",
       "    }\n",
       "\n",
       "    .dataframe thead th {\n",
       "        text-align: right;\n",
       "    }\n",
       "</style>\n",
       "<table border=\"1\" class=\"dataframe\">\n",
       "  <thead>\n",
       "    <tr style=\"text-align: right;\">\n",
       "      <th>Segment</th>\n",
       "      <th>Consumer</th>\n",
       "      <th>Corporate</th>\n",
       "      <th>Home Office</th>\n",
       "    </tr>\n",
       "    <tr>\n",
       "      <th>Region</th>\n",
       "      <th></th>\n",
       "      <th></th>\n",
       "      <th></th>\n",
       "    </tr>\n",
       "  </thead>\n",
       "  <tbody>\n",
       "    <tr>\n",
       "      <th>Central</th>\n",
       "      <td>1212</td>\n",
       "      <td>673</td>\n",
       "      <td>438</td>\n",
       "    </tr>\n",
       "    <tr>\n",
       "      <th>East</th>\n",
       "      <td>1469</td>\n",
       "      <td>877</td>\n",
       "      <td>502</td>\n",
       "    </tr>\n",
       "    <tr>\n",
       "      <th>South</th>\n",
       "      <td>838</td>\n",
       "      <td>510</td>\n",
       "      <td>272</td>\n",
       "    </tr>\n",
       "    <tr>\n",
       "      <th>West</th>\n",
       "      <td>1672</td>\n",
       "      <td>960</td>\n",
       "      <td>571</td>\n",
       "    </tr>\n",
       "  </tbody>\n",
       "</table>\n",
       "</div>"
      ],
      "text/plain": [
       "Segment  Consumer  Corporate  Home Office\n",
       "Region                                   \n",
       "Central      1212        673          438\n",
       "East         1469        877          502\n",
       "South         838        510          272\n",
       "West         1672        960          571"
      ]
     },
     "execution_count": 75,
     "metadata": {},
     "output_type": "execute_result"
    }
   ],
   "source": [
    "pd.crosstab(data['Region'], data['Segment'])"
   ]
  },
  {
   "cell_type": "code",
   "execution_count": 76,
   "metadata": {},
   "outputs": [
    {
     "data": {
      "text/plain": [
       "(4.994063939208065,\n",
       " 0.5445746876991089,\n",
       " 6,\n",
       " array([[1206.59325595,  701.96718031,  414.43956374],\n",
       "        [1479.28437062,  860.61236742,  508.10326196],\n",
       "        [ 841.44686812,  489.53372023,  289.01941165],\n",
       "        [1663.6755053 ,  967.88673204,  571.43776266]]))"
      ]
     },
     "execution_count": 76,
     "metadata": {},
     "output_type": "execute_result"
    }
   ],
   "source": [
    "chi2_contingency(pd.crosstab(data['Region'], data['Segment']))"
   ]
  },
  {
   "cell_type": "markdown",
   "metadata": {},
   "source": [
    "### Analyzing losses"
   ]
  },
  {
   "cell_type": "code",
   "execution_count": 77,
   "metadata": {},
   "outputs": [],
   "source": [
    "negative_profit = data[data['Profit'] <= 0]"
   ]
  },
  {
   "cell_type": "code",
   "execution_count": 78,
   "metadata": {},
   "outputs": [
    {
     "data": {
      "text/plain": [
       "array(['Florida', 'Texas', 'Pennsylvania', 'Illinois', 'Tennessee',\n",
       "       'Oregon', 'Colorado', 'Arizona', 'California', 'Ohio',\n",
       "       'North Carolina', 'New York', 'Massachusetts', 'Washington',\n",
       "       'Virginia', 'Connecticut', 'New Jersey', 'Delaware', 'Minnesota',\n",
       "       'Mississippi', 'Maryland', 'Alabama', 'Nevada', 'Michigan',\n",
       "       'Rhode Island', 'New Mexico', 'New Hampshire', 'Kentucky',\n",
       "       'West Virginia', 'Indiana'], dtype=object)"
      ]
     },
     "execution_count": 78,
     "metadata": {},
     "output_type": "execute_result"
    }
   ],
   "source": [
    "# States with loss sales\n",
    "negative_profit['State'].unique()"
   ]
  },
  {
   "cell_type": "code",
   "execution_count": 79,
   "metadata": {},
   "outputs": [
    {
     "data": {
      "text/plain": [
       "Central    752\n",
       "East       572\n",
       "West       340\n",
       "South      272\n",
       "Name: Region, dtype: int64"
      ]
     },
     "execution_count": 79,
     "metadata": {},
     "output_type": "execute_result"
    }
   ],
   "source": [
    "negative_profit['Region'].value_counts()"
   ]
  },
  {
   "cell_type": "markdown",
   "metadata": {},
   "source": [
    "<b> The central region has the most number of losses!</b>"
   ]
  },
  {
   "cell_type": "code",
   "execution_count": 80,
   "metadata": {},
   "outputs": [
    {
     "data": {
      "text/plain": [
       "Consumer       1038\n",
       "Corporate       573\n",
       "Home Office     325\n",
       "Name: Segment, dtype: int64"
      ]
     },
     "execution_count": 80,
     "metadata": {},
     "output_type": "execute_result"
    }
   ],
   "source": [
    "negative_profit['Segment'].value_counts()"
   ]
  },
  {
   "cell_type": "markdown",
   "metadata": {},
   "source": [
    "<b> The consumer sector has the most number of losses!"
   ]
  },
  {
   "cell_type": "code",
   "execution_count": 81,
   "metadata": {},
   "outputs": [
    {
     "data": {
      "text/plain": [
       "Office Supplies    915\n",
       "Furniture          747\n",
       "Technology         274\n",
       "Name: Category, dtype: int64"
      ]
     },
     "execution_count": 81,
     "metadata": {},
     "output_type": "execute_result"
    }
   ],
   "source": [
    "negative_profit['Category'].value_counts()"
   ]
  },
  {
   "cell_type": "markdown",
   "metadata": {},
   "source": [
    "<b> Office Supplies products make the most losses!</b>"
   ]
  },
  {
   "cell_type": "code",
   "execution_count": 82,
   "metadata": {},
   "outputs": [
    {
     "data": {
      "text/plain": [
       "Binders        613\n",
       "Chairs         255\n",
       "Tables         205\n",
       "Storage        185\n",
       "Furnishings    176\n",
       "Phones         138\n",
       "Bookcases      111\n",
       "Accessories     92\n",
       "Appliances      67\n",
       "Machines        44\n",
       "Supplies        33\n",
       "Fasteners       17\n",
       "Name: Sub-Category, dtype: int64"
      ]
     },
     "execution_count": 82,
     "metadata": {},
     "output_type": "execute_result"
    }
   ],
   "source": [
    "negative_profit['Sub-Category'].value_counts()"
   ]
  },
  {
   "cell_type": "markdown",
   "metadata": {},
   "source": [
    "<b>Binders make the most losses</b>\n",
    "### Analyzing profit "
   ]
  },
  {
   "cell_type": "code",
   "execution_count": 83,
   "metadata": {},
   "outputs": [],
   "source": [
    "positive_profit = data[data['Profit'] > 0]"
   ]
  },
  {
   "cell_type": "code",
   "execution_count": 84,
   "metadata": {},
   "outputs": [
    {
     "data": {
      "text/plain": [
       "West       2863\n",
       "East       2276\n",
       "Central    1571\n",
       "South      1348\n",
       "Name: Region, dtype: int64"
      ]
     },
     "execution_count": 84,
     "metadata": {},
     "output_type": "execute_result"
    }
   ],
   "source": [
    "positive_profit['Region'].value_counts()"
   ]
  },
  {
   "cell_type": "markdown",
   "metadata": {},
   "source": [
    "<b>The south region is making the least profit!</b>"
   ]
  },
  {
   "cell_type": "code",
   "execution_count": 85,
   "metadata": {},
   "outputs": [
    {
     "data": {
      "text/plain": [
       "Consumer       4153\n",
       "Corporate      2447\n",
       "Home Office    1458\n",
       "Name: Segment, dtype: int64"
      ]
     },
     "execution_count": 85,
     "metadata": {},
     "output_type": "execute_result"
    }
   ],
   "source": [
    "positive_profit['Segment'].value_counts()"
   ]
  },
  {
   "cell_type": "markdown",
   "metadata": {},
   "source": [
    "<b> Home Office segment makes the least profit!</b>"
   ]
  },
  {
   "cell_type": "code",
   "execution_count": 86,
   "metadata": {},
   "outputs": [
    {
     "data": {
      "text/plain": [
       "Office Supplies    5111\n",
       "Technology         1573\n",
       "Furniture          1374\n",
       "Name: Category, dtype: int64"
      ]
     },
     "execution_count": 86,
     "metadata": {},
     "output_type": "execute_result"
    }
   ],
   "source": [
    "positive_profit['Category'].value_counts()"
   ]
  },
  {
   "cell_type": "markdown",
   "metadata": {},
   "source": [
    "<b> Furniture makes the least profit!</b>"
   ]
  },
  {
   "cell_type": "code",
   "execution_count": 87,
   "metadata": {},
   "outputs": [
    {
     "data": {
      "text/plain": [
       "Paper          1370\n",
       "Binders         910\n",
       "Art             796\n",
       "Furnishings     781\n",
       "Phones          751\n",
       "Accessories     683\n",
       "Storage         661\n",
       "Appliances      399\n",
       "Labels          364\n",
       "Chairs          362\n",
       "Envelopes       254\n",
       "Fasteners       200\n",
       "Supplies        157\n",
       "Bookcases       117\n",
       "Tables          114\n",
       "Machines         71\n",
       "Copiers          68\n",
       "Name: Sub-Category, dtype: int64"
      ]
     },
     "execution_count": 87,
     "metadata": {},
     "output_type": "execute_result"
    }
   ],
   "source": [
    "positive_profit['Sub-Category'].value_counts()"
   ]
  },
  {
   "cell_type": "markdown",
   "metadata": {},
   "source": [
    "<b>Copiers make the least profit</b>"
   ]
  },
  {
   "cell_type": "code",
   "execution_count": 88,
   "metadata": {},
   "outputs": [
    {
     "data": {
      "text/plain": [
       "<matplotlib.axes._subplots.AxesSubplot at 0x234653adac8>"
      ]
     },
     "execution_count": 88,
     "metadata": {},
     "output_type": "execute_result"
    },
    {
     "data": {
      "image/png": "[encoded data removed]",
      "text/plain": [
       "<Figure size 432x288 with 1 Axes>"
      ]
     },
     "metadata": {
      "needs_background": "light"
     },
     "output_type": "display_data"
    }
   ],
   "source": [
    "negative_profit.plot.scatter('Sales','Profit')"
   ]
  },
  {
   "cell_type": "code",
   "execution_count": 89,
   "metadata": {},
   "outputs": [
    {
     "data": {
      "text/plain": [
       "<matplotlib.axes._subplots.AxesSubplot at 0x234653715c8>"
      ]
     },
     "execution_count": 89,
     "metadata": {},
     "output_type": "execute_result"
    },
    {
     "data": {
      "image/png": "[encoded data removed]",
      "text/plain": [
       "<Figure size 432x288 with 1 Axes>"
      ]
     },
     "metadata": {
      "needs_background": "light"
     },
     "output_type": "display_data"
    }
   ],
   "source": [
    "positive_profit.plot.scatter('Sales','Profit')"
   ]
  },
  {
   "cell_type": "code",
   "execution_count": 91,
   "metadata": {},
   "outputs": [
    {
     "data": {
      "text/html": [
       "<div>\n",
       "<style scoped>\n",
       "    .dataframe tbody tr th:only-of-type {\n",
       "        vertical-align: middle;\n",
       "    }\n",
       "\n",
       "    .dataframe tbody tr th {\n",
       "        vertical-align: top;\n",
       "    }\n",
       "\n",
       "    .dataframe thead th {\n",
       "        text-align: right;\n",
       "    }\n",
       "</style>\n",
       "<table border=\"1\" class=\"dataframe\">\n",
       "  <thead>\n",
       "    <tr style=\"text-align: right;\">\n",
       "      <th></th>\n",
       "      <th>Ship Mode</th>\n",
       "      <th>Segment</th>\n",
       "      <th>Country</th>\n",
       "      <th>City</th>\n",
       "      <th>State</th>\n",
       "      <th>Postal Code</th>\n",
       "      <th>Region</th>\n",
       "      <th>Category</th>\n",
       "      <th>Sub-Category</th>\n",
       "      <th>Sales</th>\n",
       "      <th>Quantity</th>\n",
       "      <th>Discount</th>\n",
       "      <th>Profit</th>\n",
       "    </tr>\n",
       "  </thead>\n",
       "  <tbody>\n",
       "    <tr>\n",
       "      <th>683</th>\n",
       "      <td>Same Day</td>\n",
       "      <td>Corporate</td>\n",
       "      <td>United States</td>\n",
       "      <td>Burlington</td>\n",
       "      <td>North Carolina</td>\n",
       "      <td>27217</td>\n",
       "      <td>South</td>\n",
       "      <td>Technology</td>\n",
       "      <td>Machines</td>\n",
       "      <td>7999.980</td>\n",
       "      <td>4</td>\n",
       "      <td>0.5</td>\n",
       "      <td>-3839.9904</td>\n",
       "    </tr>\n",
       "    <tr>\n",
       "      <th>3011</th>\n",
       "      <td>Standard Class</td>\n",
       "      <td>Home Office</td>\n",
       "      <td>United States</td>\n",
       "      <td>Louisville</td>\n",
       "      <td>Colorado</td>\n",
       "      <td>80027</td>\n",
       "      <td>West</td>\n",
       "      <td>Technology</td>\n",
       "      <td>Machines</td>\n",
       "      <td>2549.985</td>\n",
       "      <td>5</td>\n",
       "      <td>0.7</td>\n",
       "      <td>-3399.9800</td>\n",
       "    </tr>\n",
       "    <tr>\n",
       "      <th>7772</th>\n",
       "      <td>Standard Class</td>\n",
       "      <td>Consumer</td>\n",
       "      <td>United States</td>\n",
       "      <td>Lancaster</td>\n",
       "      <td>Ohio</td>\n",
       "      <td>43130</td>\n",
       "      <td>East</td>\n",
       "      <td>Technology</td>\n",
       "      <td>Machines</td>\n",
       "      <td>4499.985</td>\n",
       "      <td>5</td>\n",
       "      <td>0.7</td>\n",
       "      <td>-6599.9780</td>\n",
       "    </tr>\n",
       "    <tr>\n",
       "      <th>9774</th>\n",
       "      <td>Standard Class</td>\n",
       "      <td>Consumer</td>\n",
       "      <td>United States</td>\n",
       "      <td>San Antonio</td>\n",
       "      <td>Texas</td>\n",
       "      <td>78207</td>\n",
       "      <td>Central</td>\n",
       "      <td>Office Supplies</td>\n",
       "      <td>Binders</td>\n",
       "      <td>2177.584</td>\n",
       "      <td>8</td>\n",
       "      <td>0.8</td>\n",
       "      <td>-3701.8928</td>\n",
       "    </tr>\n",
       "  </tbody>\n",
       "</table>\n",
       "</div>"
      ],
      "text/plain": [
       "           Ship Mode      Segment        Country         City           State  \\\n",
       "683         Same Day    Corporate  United States   Burlington  North Carolina   \n",
       "3011  Standard Class  Home Office  United States   Louisville        Colorado   \n",
       "7772  Standard Class     Consumer  United States    Lancaster            Ohio   \n",
       "9774  Standard Class     Consumer  United States  San Antonio           Texas   \n",
       "\n",
       "      Postal Code   Region         Category Sub-Category     Sales  Quantity  \\\n",
       "683         27217    South       Technology     Machines  7999.980         4   \n",
       "3011        80027     West       Technology     Machines  2549.985         5   \n",
       "7772        43130     East       Technology     Machines  4499.985         5   \n",
       "9774        78207  Central  Office Supplies      Binders  2177.584         8   \n",
       "\n",
       "      Discount     Profit  \n",
       "683        0.5 -3839.9904  \n",
       "3011       0.7 -3399.9800  \n",
       "7772       0.7 -6599.9780  \n",
       "9774       0.8 -3701.8928  "
      ]
     },
     "execution_count": 91,
     "metadata": {},
     "output_type": "execute_result"
    }
   ],
   "source": [
    "# refer box plot\n",
    "\n",
    "negative_profit[negative_profit['Profit'] < -3000]"
   ]
  },
  {
   "cell_type": "markdown",
   "metadata": {},
   "source": [
    "### From the above outliers we can understand that <i>MACHINES</i> sold at these places are causing too much loss irrespective of Segment, Shipping mode or place. <u>It is due to the high discount</u>!\n",
    "\n",
    "#### Visualization of positive and negative profit cases."
   ]
  },
  {
   "cell_type": "code",
   "execution_count": 92,
   "metadata": {},
   "outputs": [
    {
     "data": {
      "text/plain": [
       "<matplotlib.axes._subplots.AxesSubplot at 0x23464da4048>"
      ]
     },
     "execution_count": 92,
     "metadata": {},
     "output_type": "execute_result"
    },
    {
     "data": {
      "image/png": "[encoded data removed]",
      "text/plain": [
       "<Figure size 432x288 with 1 Axes>"
      ]
     },
     "metadata": {
      "needs_background": "light"
     },
     "output_type": "display_data"
    }
   ],
   "source": [
    "negative_profit['Category'].value_counts().plot.bar()"
   ]
  },
  {
   "cell_type": "code",
   "execution_count": 93,
   "metadata": {},
   "outputs": [
    {
     "data": {
      "text/plain": [
       "<matplotlib.axes._subplots.AxesSubplot at 0x23464dc7ec8>"
      ]
     },
     "execution_count": 93,
     "metadata": {},
     "output_type": "execute_result"
    },
    {
     "data": {
      "image/png": "[encoded data removed]",
      "text/plain": [
       "<Figure size 432x288 with 1 Axes>"
      ]
     },
     "metadata": {
      "needs_background": "light"
     },
     "output_type": "display_data"
    }
   ],
   "source": [
    "negative_profit['Sub-Category'].value_counts().plot.bar()"
   ]
  },
  {
   "cell_type": "code",
   "execution_count": 94,
   "metadata": {},
   "outputs": [
    {
     "data": {
      "text/plain": [
       "<matplotlib.axes._subplots.AxesSubplot at 0x23464e00288>"
      ]
     },
     "execution_count": 94,
     "metadata": {},
     "output_type": "execute_result"
    },
    {
     "data": {
      "image/png": "[encoded data removed]",
      "text/plain": [
       "<Figure size 432x288 with 1 Axes>"
      ]
     },
     "metadata": {
      "needs_background": "light"
     },
     "output_type": "display_data"
    }
   ],
   "source": [
    "negative_profit['Region'].value_counts().plot.bar()"
   ]
  },
  {
   "cell_type": "code",
   "execution_count": 95,
   "metadata": {},
   "outputs": [
    {
     "data": {
      "text/plain": [
       "<matplotlib.axes._subplots.AxesSubplot at 0x234652f9688>"
      ]
     },
     "execution_count": 95,
     "metadata": {},
     "output_type": "execute_result"
    },
    {
     "data": {
      "image/png": "[encoded data removed]",
      "text/plain": [
       "<Figure size 432x288 with 1 Axes>"
      ]
     },
     "metadata": {
      "needs_background": "light"
     },
     "output_type": "display_data"
    }
   ],
   "source": [
    "\n",
    "positive_profit['Segment'].value_counts().plot.bar()"
   ]
  },
  {
   "cell_type": "code",
   "execution_count": 96,
   "metadata": {},
   "outputs": [
    {
     "data": {
      "text/plain": [
       "<matplotlib.axes._subplots.AxesSubplot at 0x23464e4f348>"
      ]
     },
     "execution_count": 96,
     "metadata": {},
     "output_type": "execute_result"
    },
    {
     "data": {
      "image/png": "[encoded data removed]",
      "text/plain": [
       "<Figure size 432x288 with 1 Axes>"
      ]
     },
     "metadata": {
      "needs_background": "light"
     },
     "output_type": "display_data"
    }
   ],
   "source": [
    "negative_profit['Segment'].value_counts().plot.bar()"
   ]
  },
  {
   "cell_type": "code",
   "execution_count": 97,
   "metadata": {},
   "outputs": [
    {
     "data": {
      "text/plain": [
       "<matplotlib.axes._subplots.AxesSubplot at 0x23464e7d648>"
      ]
     },
     "execution_count": 97,
     "metadata": {},
     "output_type": "execute_result"
    },
    {
     "data": {
      "image/png": "[encoded data removed]",
      "text/plain": [
       "<Figure size 432x288 with 1 Axes>"
      ]
     },
     "metadata": {
      "needs_background": "light"
     },
     "output_type": "display_data"
    }
   ],
   "source": [
    "positive_profit['Region'].value_counts().plot.bar()"
   ]
  },
  {
   "cell_type": "code",
   "execution_count": 98,
   "metadata": {},
   "outputs": [
    {
     "data": {
      "text/plain": [
       "<matplotlib.axes._subplots.AxesSubplot at 0x23464ea8988>"
      ]
     },
     "execution_count": 98,
     "metadata": {},
     "output_type": "execute_result"
    },
    {
     "data": {
      "image/png": "[encoded data removed]",
      "text/plain": [
       "<Figure size 432x288 with 1 Axes>"
      ]
     },
     "metadata": {
      "needs_background": "light"
     },
     "output_type": "display_data"
    }
   ],
   "source": [
    "negative_profit['Region'].value_counts().plot.bar()"
   ]
  },
  {
   "cell_type": "code",
   "execution_count": 99,
   "metadata": {},
   "outputs": [
    {
     "data": {
      "text/plain": [
       "<matplotlib.axes._subplots.AxesSubplot at 0x23464f12948>"
      ]
     },
     "execution_count": 99,
     "metadata": {},
     "output_type": "execute_result"
    },
    {
     "data": {
      "image/png": "[encoded data removed]",
      "text/plain": [
       "<Figure size 432x288 with 1 Axes>"
      ]
     },
     "metadata": {
      "needs_background": "light"
     },
     "output_type": "display_data"
    }
   ],
   "source": [
    "positive_profit['Category'].value_counts().plot.bar()"
   ]
  },
  {
   "cell_type": "code",
   "execution_count": 100,
   "metadata": {},
   "outputs": [
    {
     "data": {
      "text/plain": [
       "<matplotlib.axes._subplots.AxesSubplot at 0x23464f82f88>"
      ]
     },
     "execution_count": 100,
     "metadata": {},
     "output_type": "execute_result"
    },
    {
     "data": {
      "image/png": "[encoded data removed]",
      "text/plain": [
       "<Figure size 432x288 with 1 Axes>"
      ]
     },
     "metadata": {
      "needs_background": "light"
     },
     "output_type": "display_data"
    }
   ],
   "source": [
    "negative_profit['Category'].value_counts().plot.bar()"
   ]
  },
  {
   "cell_type": "code",
   "execution_count": 101,
   "metadata": {},
   "outputs": [
    {
     "data": {
      "text/plain": [
       "<matplotlib.axes._subplots.AxesSubplot at 0x2346519fc08>"
      ]
     },
     "execution_count": 101,
     "metadata": {},
     "output_type": "execute_result"
    },
    {
     "data": {
      "image/png": "[encoded data removed]",
      "text/plain": [
       "<Figure size 1440x360 with 1 Axes>"
      ]
     },
     "metadata": {
      "needs_background": "light"
     },
     "output_type": "display_data"
    }
   ],
   "source": [
    "positive_profit['Sub-Category'].value_counts().plot.bar(figsize=(20,5))"
   ]
  },
  {
   "cell_type": "code",
   "execution_count": 102,
   "metadata": {},
   "outputs": [
    {
     "data": {
      "text/plain": [
       "<matplotlib.axes._subplots.AxesSubplot at 0x23465241808>"
      ]
     },
     "execution_count": 102,
     "metadata": {},
     "output_type": "execute_result"
    },
    {
     "data": {
      "image/png": "[encoded data removed]",
      "text/plain": [
       "<Figure size 1440x360 with 1 Axes>"
      ]
     },
     "metadata": {
      "needs_background": "light"
     },
     "output_type": "display_data"
    }
   ],
   "source": [
    "negative_profit['Sub-Category'].value_counts().plot.bar(figsize=(20,5))"
   ]
  },
  {
   "cell_type": "markdown",
   "metadata": {},
   "source": [
    "### Weakest Sub-Category in each city"
   ]
  },
  {
   "cell_type": "code",
   "execution_count": 139,
   "metadata": {},
   "outputs": [],
   "source": [
    "weakest_sub_category_city_wise = {}\n",
    "cities = data['City'].unique()\n",
    "for c in cities:\n",
    "    selected_rows = data[data['City'] == c]\n",
    "    a = pd.DataFrame(selected_rows.groupby('Sub-Category') ['Profit'].sum())\n",
    "    sorted_rows = a.sort_values('Profit')\n",
    "    weakest_sub_category_city_wise[c] = a.iloc[0][0]\n",
    "    #a.iloc[0].name"
   ]
  },
  {
   "cell_type": "code",
   "execution_count": 140,
   "metadata": {},
   "outputs": [
    {
     "data": {
      "text/plain": [
       "{'Henderson': 517.4793,\n",
       " 'Los Angeles': 5667.292699999999,\n",
       " 'Fort Lauderdale': 248.2608,\n",
       " 'Concord': 220.13619999999997,\n",
       " 'Seattle': 3715.1850000000004,\n",
       " 'Fort Worth': 0.06489999999999974,\n",
       " 'Madison': 32.0598,\n",
       " 'West Jordan': 28.65,\n",
       " 'San Francisco': 2046.6957000000004,\n",
       " 'Fremont': 15.6884,\n",
       " 'Philadelphia': 895.1663,\n",
       " 'Orem': 17.0792,\n",
       " 'Houston': 480.7513,\n",
       " 'Richardson': -147.963,\n",
       " 'Naperville': 83.986,\n",
       " 'Melbourne': 9.5616,\n",
       " 'Eagan': 19.7714,\n",
       " 'Westland': 36.2835,\n",
       " 'Dover': 580.0221,\n",
       " 'New Albany': 17.9634,\n",
       " 'New York City': 5021.230599999998,\n",
       " 'Troy': 41.087399999999995,\n",
       " 'Chicago': 409.59900000000005,\n",
       " 'Gilbert': 4.7988,\n",
       " 'Springfield': 1094.2486,\n",
       " 'Jackson': 1482.2178999999999,\n",
       " 'Memphis': 0.4752,\n",
       " 'Decatur': 374.8825,\n",
       " 'Durham': 9.8352,\n",
       " 'Columbia': 443.2812,\n",
       " 'Rochester': 183.00310000000002,\n",
       " 'Minneapolis': 129.7102,\n",
       " 'Portland': 128.4439,\n",
       " 'Saint Paul': 22.5852,\n",
       " 'Aurora': -10.985800000000003,\n",
       " 'Charlotte': 510.8874,\n",
       " 'Orland Park': 67.992,\n",
       " 'Urbandale': 22.788,\n",
       " 'Columbus': 567.9472,\n",
       " 'Bristol': 60.5528,\n",
       " 'Wilmington': 5.265,\n",
       " 'Bloomington': 7.4655,\n",
       " 'Phoenix': 70.9378,\n",
       " 'Roseville': 178.91,\n",
       " 'Independence': 218.2518,\n",
       " 'Pasadena': 38.6979,\n",
       " 'Newark': 761.5737000000001,\n",
       " 'Franklin': 42.2235,\n",
       " 'Scottsdale': 17.766,\n",
       " 'San Jose': 12.96,\n",
       " 'Edmond': 6.8714,\n",
       " 'Carlsbad': 1.0842,\n",
       " 'San Antonio': 30.091000000000015,\n",
       " 'Monroe': 285.1074,\n",
       " 'Fairfield': 41.7186,\n",
       " 'Grand Prairie': -8.18,\n",
       " 'Redlands': 63.6765,\n",
       " 'Hamilton': 9.294,\n",
       " 'Westfield': 91.7892,\n",
       " 'Akron': 49.892700000000005,\n",
       " 'Denver': 78.3518,\n",
       " 'Dallas': 224.1943,\n",
       " 'Whittier': 44.4768,\n",
       " 'Saginaw': 7.4824,\n",
       " 'Medina': 4.4792,\n",
       " 'Dublin': 109.6947,\n",
       " 'Detroit': 372.50469999999996,\n",
       " 'Tampa': -8.4542,\n",
       " 'Santa Clara': 15.7248,\n",
       " 'Lakeville': 532.6467,\n",
       " 'San Diego': 1477.2476000000004,\n",
       " 'Brentwood': 48.9491,\n",
       " 'Chapel Hill': 4.7304,\n",
       " 'Morristown': 735.0336,\n",
       " 'Cincinnati': 31.347,\n",
       " 'Inglewood': 112.87200000000001,\n",
       " 'Tamarac': 24.316,\n",
       " 'Colorado Springs': -6.534,\n",
       " 'Belleville': 71.991,\n",
       " 'Taylor': 8.799,\n",
       " 'Lakewood': 37.35,\n",
       " 'Arlington': 36.913799999999995,\n",
       " 'Arvada': 52.5114,\n",
       " 'Hackensack': 213.735,\n",
       " 'Saint Petersburg': 0.3336,\n",
       " 'Long Beach': 39.5428,\n",
       " 'Hesperia': 34.9965,\n",
       " 'Murfreesboro': -12.021,\n",
       " 'Layton': 2.3312,\n",
       " 'Austin': 52.40070000000001,\n",
       " 'Lowell': 80.3208,\n",
       " 'Manchester': 48.8064,\n",
       " 'Harlingen': 16.3737,\n",
       " 'Tucson': 146.84679999999997,\n",
       " 'Quincy': 95.9232,\n",
       " 'Pembroke Pines': -7.7646,\n",
       " 'Des Moines': 10.880999999999998,\n",
       " 'Peoria': -36.864000000000004,\n",
       " 'Las Vegas': 27.2126,\n",
       " 'Warwick': 93.24,\n",
       " 'Miami': 158.198,\n",
       " 'Huntington Beach': 27.148999999999997,\n",
       " 'Richmond': 162.15249999999997,\n",
       " 'Louisville': 127.832,\n",
       " 'Lawrence': 221.2092,\n",
       " 'Canton': 138.2016,\n",
       " 'New Rochelle': 14.995,\n",
       " 'Gastonia': 131.382,\n",
       " 'Jacksonville': 309.7252,\n",
       " 'Auburn': 106.85870000000001,\n",
       " 'Norman': 269.5287,\n",
       " 'Park Ridge': -312.0614,\n",
       " 'Amarillo': 63.752399999999994,\n",
       " 'Lindenhurst': 26.6304,\n",
       " 'Huntsville': 545.6314,\n",
       " 'Fayetteville': 266.1839,\n",
       " 'Costa Mesa': 26.3967,\n",
       " 'Parker': -28.942400000000003,\n",
       " 'Atlanta': 166.9263,\n",
       " 'Gladstone': 12.1728,\n",
       " 'Great Falls': 91.3248,\n",
       " 'Lakeland': 53.2,\n",
       " 'Montgomery': 3.9609,\n",
       " 'Mesa': 1.999,\n",
       " 'Green Bay': 206.31599999999997,\n",
       " 'Anaheim': 25.1916,\n",
       " 'Marysville': 2.3814,\n",
       " 'Salem': -26.644199999999998,\n",
       " 'Laredo': 48.1422,\n",
       " 'Grove City': -2.7968,\n",
       " 'Dearborn': 178.90099999999998,\n",
       " 'Warner Robins': 10.465,\n",
       " 'Vallejo': 41.652,\n",
       " 'Mission Viejo': 46.8,\n",
       " 'Rochester Hills': 54.3332,\n",
       " 'Plainfield': 42.523399999999995,\n",
       " 'Sierra Vista': 3.0144,\n",
       " 'Vancouver': 31.6,\n",
       " 'Cleveland': 4.843999999999998,\n",
       " 'Tyler': 4.5201,\n",
       " 'Burlington': 192.2462,\n",
       " 'Waynesboro': 44.8896,\n",
       " 'Chester': 18.748,\n",
       " 'Cary': 2.2824,\n",
       " 'Palm Coast': -12.566400000000002,\n",
       " 'Mount Vernon': 113.9886,\n",
       " 'Hialeah': 5.3584000000000005,\n",
       " 'Oceanside': 60.0084,\n",
       " 'Evanston': -4.9005,\n",
       " 'Trenton': 37.23,\n",
       " 'Cottage Grove': 47.92,\n",
       " 'Bossier City': 258.69599999999997,\n",
       " 'Lancaster': 2.0340000000000003,\n",
       " 'Asheville': 4.3584,\n",
       " 'Lake Elsinore': 17.745,\n",
       " 'Omaha': 69.8835,\n",
       " 'Edmonds': 88.9636,\n",
       " 'Santa Ana': 601.9699,\n",
       " 'Milwaukee': 357.06199999999995,\n",
       " 'Florence': 21.6308,\n",
       " 'Lorain': 76.7904,\n",
       " 'Linden': 49.6048,\n",
       " 'Salinas': 1.3416,\n",
       " 'New Brunswick': 3.58,\n",
       " 'Garland': 3.798,\n",
       " 'Norwich': 144.3546,\n",
       " 'Alexandria': 14.2352,\n",
       " 'Toledo': 27.803400000000003,\n",
       " 'Farmington': 54.3966,\n",
       " 'Riverside': 15.0984,\n",
       " 'Torrance': 459.39599999999996,\n",
       " 'Round Rock': 5.7365,\n",
       " 'Boca Raton': 2.3080000000000003,\n",
       " 'Virginia Beach': 39.661199999999994,\n",
       " 'Murrieta': 92.0835,\n",
       " 'Olympia': 45.294,\n",
       " 'Washington': 22.0974,\n",
       " 'Jefferson City': 8.662,\n",
       " 'Saint Peters': 146.4036,\n",
       " 'Rockford': 12.8744,\n",
       " 'Brownsville': -14.4588,\n",
       " 'Yonkers': 248.0917,\n",
       " 'Oakland': 230.0784,\n",
       " 'Clinton': 4.908,\n",
       " 'Encinitas': 57.5904,\n",
       " 'Roswell': 198.9764,\n",
       " 'Jonesboro': 8.448500000000001,\n",
       " 'Antioch': 9.3312,\n",
       " 'Homestead': 15.5344,\n",
       " 'La Porte': 10.5504,\n",
       " 'Lansing': 107.346,\n",
       " 'Cuyahoga Falls': -13.828,\n",
       " 'Reno': 1.6380000000000001,\n",
       " 'Harrisonburg': 6.9239999999999995,\n",
       " 'Escondido': 21.7162,\n",
       " 'Royal Oak': 16.9632,\n",
       " 'Rockville': 3.6162,\n",
       " 'Coral Springs': 24.720399999999998,\n",
       " 'Buffalo': 0.7228,\n",
       " 'Boynton Beach': 4.8525,\n",
       " 'Gulfport': 15.68,\n",
       " 'Fresno': 118.98299999999999,\n",
       " 'Greenville': 15.3954,\n",
       " 'Macon': 43.055099999999996,\n",
       " 'Cedar Rapids': 80.736,\n",
       " 'Providence': 831.5222,\n",
       " 'Pueblo': 0.8495,\n",
       " 'Deltona': 2.0088,\n",
       " 'Murray': 19.656,\n",
       " 'Middletown': 38.08,\n",
       " 'Freeport': 14.345999999999998,\n",
       " 'Pico Rivera': 62.736999999999995,\n",
       " 'Provo': 16.7283,\n",
       " 'Pleasant Grove': 305.13,\n",
       " 'Smyrna': 54.9387,\n",
       " 'Parma': 33.0288,\n",
       " 'Mobile': 71.3898,\n",
       " 'New Bedford': 7.6494,\n",
       " 'Irving': -153.2024,\n",
       " 'Vineland': 34.96,\n",
       " 'Glendale': 14.515,\n",
       " 'Niagara Falls': 5.0112,\n",
       " 'Thomasville': -2.4564,\n",
       " 'Westminster': 27.5422,\n",
       " 'Coppell': 6.957,\n",
       " 'Pomona': 104.97900000000001,\n",
       " 'North Las Vegas': 89.4291,\n",
       " 'Allentown': 3.8024,\n",
       " 'Tempe': -11.0011,\n",
       " 'Laguna Niguel': 16.7986,\n",
       " 'Bridgeton': 3.0342,\n",
       " 'Everett': 118.4832,\n",
       " 'Watertown': 18.6507,\n",
       " 'Appleton': 544.4175,\n",
       " 'Bellevue': 1.5312,\n",
       " 'Allen': -0.2685,\n",
       " 'El Paso': -10.7973,\n",
       " 'Grapevine': 5.8604,\n",
       " 'Carrollton': 101.4919,\n",
       " 'Kent': 1.5030000000000001,\n",
       " 'Lafayette': 42.9914,\n",
       " 'Tigard': -3.094,\n",
       " 'Skokie': -4.908,\n",
       " 'Plano': 3.5742,\n",
       " 'Suffolk': 50.3832,\n",
       " 'Indianapolis': 60.23219999999999,\n",
       " 'Bayonne': 19.8276,\n",
       " 'Greensboro': 0.3399,\n",
       " 'Baltimore': 28.709699999999998,\n",
       " 'Kenosha': 170.5725,\n",
       " 'Olathe': 10.905999999999999,\n",
       " 'Tulsa': 125.60520000000001,\n",
       " 'Redmond': 6.7966,\n",
       " 'Raleigh': 13.1956,\n",
       " 'Muskogee': 3.4086,\n",
       " 'Meriden': 22.2516,\n",
       " 'Bowling Green': 25.9405,\n",
       " 'South Bend': 124.68,\n",
       " 'Spokane': 26.3934,\n",
       " 'Keller': 2.1,\n",
       " 'Port Orange': 2.9339999999999997,\n",
       " 'Medford': -6.8334,\n",
       " 'Charlottesville': 10.395,\n",
       " 'Missoula': 152.495,\n",
       " 'Apopka': 50.3658,\n",
       " 'Reading': -250.5408,\n",
       " 'Broomfield': -19.4272,\n",
       " 'Paterson': 153.3588,\n",
       " 'Oklahoma City': 0.552,\n",
       " 'Chesapeake': 103.15799999999999,\n",
       " 'Lubbock': -27.381999999999998,\n",
       " 'Johnson City': 29.1424,\n",
       " 'San Bernardino': 61.482400000000005,\n",
       " 'Leominster': 37.4431,\n",
       " 'Bozeman': 6.8714,\n",
       " 'Perth Amboy': 45.5392,\n",
       " 'Ontario': -46.137,\n",
       " 'Rancho Cucamonga': 41.2938,\n",
       " 'Moorhead': 19.8276,\n",
       " 'Mesquite': 1.6632,\n",
       " 'Stockton': 117.98,\n",
       " 'Ormond Beach': -1.9656,\n",
       " 'Sunnyvale': 77.0775,\n",
       " 'York': -56.9848,\n",
       " 'College Station': -74.7456,\n",
       " 'Saint Louis': 43.5981,\n",
       " 'Manteca': 13.7646,\n",
       " 'San Angelo': -30.8672,\n",
       " 'Salt Lake City': 157.2313,\n",
       " 'Knoxville': -1.1196,\n",
       " 'Little Rock': 332.4099,\n",
       " 'Lincoln Park': 29.7408,\n",
       " 'Marion': 95.6587,\n",
       " 'Littleton': -98.8018,\n",
       " 'Bangor': 104.7222,\n",
       " 'Southaven': 179.7378,\n",
       " 'New Castle': 16.3863,\n",
       " 'Midland': 41.496,\n",
       " 'Sioux Falls': 133.8966,\n",
       " 'Fort Collins': 0.5998,\n",
       " 'Clarksville': 11.9196,\n",
       " 'Sacramento': 39.8886,\n",
       " 'Thousand Oaks': 4.1160000000000005,\n",
       " 'Malden': 10.3168,\n",
       " 'Holyoke': 60.391999999999996,\n",
       " 'Albuquerque': 183.3295,\n",
       " 'Sparks': 23.808000000000003,\n",
       " 'Coachella': 43.9956,\n",
       " 'Elmhurst': -172.1172,\n",
       " 'Passaic': 30.432,\n",
       " 'North Charleston': 4.2804,\n",
       " 'Newport News': 0.8804,\n",
       " 'Jamestown': 57.5928,\n",
       " 'Mishawaka': 64.2,\n",
       " 'La Quinta': 18.0648,\n",
       " 'Tallahassee': -75.5958,\n",
       " 'Nashville': 8.3524,\n",
       " 'Bellingham': 362.835,\n",
       " 'Woodstock': 98.1396,\n",
       " 'Haltom City': 36.3972,\n",
       " 'Wheeling': 15.192,\n",
       " 'Summerville': 157.3632,\n",
       " 'Hot Springs': 2.9989999999999997,\n",
       " 'Englewood': 5.6115,\n",
       " 'Las Cruces': 3.4776,\n",
       " 'Hoover': 1.5588,\n",
       " 'Frisco': -1.3584,\n",
       " 'Vacaville': 110.0528,\n",
       " 'Waukesha': 14.17,\n",
       " 'Bakersfield': 25.4384,\n",
       " 'Pompano Beach': 0.7425,\n",
       " 'Corpus Christi': 1.4406,\n",
       " 'Redondo Beach': 10.498899999999999,\n",
       " 'Orlando': 10.895999999999999,\n",
       " 'Orange': 22.0748,\n",
       " 'Lake Charles': 228.26579999999998,\n",
       " 'Highland Park': -9.168,\n",
       " 'Hempstead': 10.5,\n",
       " 'Noblesville': 5.652,\n",
       " 'Apple Valley': 2.5056,\n",
       " 'Mount Pleasant': 87.3504,\n",
       " 'Sterling Heights': 24.1376,\n",
       " 'Eau Claire': 45.84,\n",
       " 'Pharr': -33.32,\n",
       " 'Billings': 2.6936,\n",
       " 'Gresham': -18.4464,\n",
       " 'Chattanooga': 15.5961,\n",
       " 'Meridian': 66.0736,\n",
       " 'Bolingbrook': -13.5548,\n",
       " 'Maple Grove': 331.191,\n",
       " 'Woodland': 7.5864,\n",
       " 'Missouri City': -9.555,\n",
       " 'Pearland': -18.5262,\n",
       " 'San Mateo': 35.3346,\n",
       " 'Grand Rapids': 67.914,\n",
       " 'Visalia': 3.4848,\n",
       " 'Overland Park': 15.378,\n",
       " 'Temecula': 42.594300000000004,\n",
       " 'Yucaipa': 13.208,\n",
       " 'Revere': 16.1096,\n",
       " 'Conroe': 6.9795,\n",
       " 'Tinley Park': -8.9152,\n",
       " 'Dubuque': 6.858,\n",
       " 'Dearborn Heights': 42.9914,\n",
       " 'Santa Fe': 18.504,\n",
       " 'Hickory': -3.81,\n",
       " 'Carol Stream': -98.63419999999999,\n",
       " 'Saint Cloud': 288.438,\n",
       " 'North Miami': 4.8924,\n",
       " 'Plantation': 89.5888,\n",
       " 'Port Saint Lucie': 0.8959999999999999,\n",
       " 'Rock Hill': 3.792,\n",
       " 'Odessa': -24.7716,\n",
       " 'West Allis': 4.1748,\n",
       " 'Chula Vista': 55.912,\n",
       " 'Manhattan': 10.9584,\n",
       " 'Altoona': 2.2044,\n",
       " 'Thornton': 114.21340000000001,\n",
       " 'Champaign': -182.352,\n",
       " 'Texarkana': 18.093,\n",
       " 'Edinburg': -3.4122,\n",
       " 'Baytown': 3.6288,\n",
       " 'Greenwood': 356.225,\n",
       " 'Woonsocket': 22.89,\n",
       " 'Superior': 109.42200000000001,\n",
       " 'Bedford': 2.87,\n",
       " 'Covington': 21.0,\n",
       " 'Broken Arrow': 8.2808,\n",
       " 'Miramar': 48.632,\n",
       " 'Hollywood': 17.127,\n",
       " 'Deer Park': -10.386,\n",
       " 'Wichita': 22.9488,\n",
       " 'Mcallen': 11.7468,\n",
       " 'Iowa City': 4.4955,\n",
       " 'Boise': 37.7874,\n",
       " 'Cranston': 0.6659999999999999,\n",
       " 'Port Arthur': -76.0116,\n",
       " 'Citrus Heights': 54.3438,\n",
       " 'The Colony': 19.4194,\n",
       " 'Daytona Beach': 14.628,\n",
       " 'Bullhead City': 2.772,\n",
       " 'Portage': 6.5120000000000005,\n",
       " 'Fargo': 51.8812,\n",
       " 'Elkhart': 11.1825,\n",
       " 'San Gabriel': 78.5088,\n",
       " 'Margate': 2.3328,\n",
       " 'Sandy Springs': 0.833,\n",
       " 'Mentor': 65.9934,\n",
       " 'Lawton': 155.727,\n",
       " 'Hampton': 18.6606,\n",
       " 'Rome': 9.1602,\n",
       " 'La Crosse': 174.9825,\n",
       " 'Lewiston': 14.9556,\n",
       " 'Hattiesburg': 128.868,\n",
       " 'Danville': 4.224,\n",
       " 'Logan': 6.624,\n",
       " 'Waterbury': 52.7922,\n",
       " 'Athens': 28.7964,\n",
       " 'Avondale': -15.164000000000001,\n",
       " 'Marietta': 6.102,\n",
       " 'Yuma': 48.7011,\n",
       " 'Wausau': 68.8464,\n",
       " 'Pasco': 112.22399999999999,\n",
       " 'Oak Park': 1.0192,\n",
       " 'Pensacola': -1.476,\n",
       " 'League City': 9.7755,\n",
       " 'Gaithersburg': 38.2668,\n",
       " 'Lehi': 449.985,\n",
       " 'Tuscaloosa': 15.5204,\n",
       " 'Moreno Valley': 2.9646,\n",
       " 'Georgetown': 50.8768,\n",
       " 'Loveland': -0.99,\n",
       " 'Chandler': 2.536,\n",
       " 'Helena': 21.7532,\n",
       " 'Kirkwood': 13.064,\n",
       " 'Waco': 0.7120000000000001,\n",
       " 'Frankfort': -52.9584,\n",
       " 'Bethlehem': 0.711,\n",
       " 'Grand Island': 7.98,\n",
       " 'Woodbury': 15.5232,\n",
       " 'Rogers': 18.5886,\n",
       " 'Clovis': 8.1072,\n",
       " 'Jupiter': 0.1548,\n",
       " 'Santa Barbara': 3.7744,\n",
       " 'Cedar Hill': 2.478,\n",
       " 'Norfolk': 8.0178,\n",
       " 'Draper': 34.6983,\n",
       " 'Ann Arbor': 111.59100000000001,\n",
       " 'La Mesa': 85.491,\n",
       " 'Pocatello': 5.537999999999999,\n",
       " 'Holland': 9.198,\n",
       " 'Milford': 87.89,\n",
       " 'Buffalo Grove': 95.1888,\n",
       " 'Lake Forest': 152.0232,\n",
       " 'Redding': 25.0182,\n",
       " 'Chico': 4.1080000000000005,\n",
       " 'Utica': 28.7964,\n",
       " 'Conway': 45.294,\n",
       " 'Cheyenne': 100.196,\n",
       " 'Owensboro': 21.0128,\n",
       " 'Caldwell': 4.2294,\n",
       " 'Kenner': 15.1158,\n",
       " 'Nashua': 6.9654,\n",
       " 'Bartlett': 10.008,\n",
       " 'Redwood City': 14.1426,\n",
       " 'Lebanon': 59.4355,\n",
       " 'Santa Maria': 30.0144,\n",
       " 'Des Plaines': -4.9164,\n",
       " 'Longview': 22.0748,\n",
       " 'Hendersonville': 1.0731,\n",
       " 'Waterloo': 11.8248,\n",
       " 'Cambridge': 24.9132,\n",
       " 'Palatine': 23.2624,\n",
       " 'Beverly': 503.7822,\n",
       " 'Eugene': -111.9606,\n",
       " 'Oxnard': 29.0325,\n",
       " 'Renton': 56.55,\n",
       " 'Glenview': 13.8579,\n",
       " 'Delray Beach': 11.98,\n",
       " 'Commerce City': -32.9292,\n",
       " 'Texas City': -8.5416,\n",
       " 'Wilson': -10.3248,\n",
       " 'Rio Rancho': 119.5878,\n",
       " 'Goldsboro': 3.0576,\n",
       " 'Montebello': 3.9032,\n",
       " 'El Cajon': 52.6872,\n",
       " 'Beaumont': 77.994,\n",
       " 'West Palm Beach': 2.1319999999999997,\n",
       " 'Abilene': -3.7584,\n",
       " 'Normal': -110.0232,\n",
       " 'Saint Charles': 181.99920000000003,\n",
       " 'Camarillo': 41.9965,\n",
       " 'Hillsboro': -4.641,\n",
       " 'Burbank': 14.43,\n",
       " 'Modesto': 43.5981,\n",
       " 'Garden City': 1.7280000000000002,\n",
       " 'Atlantic City': 11.68,\n",
       " 'Longmont': -6.21,\n",
       " 'Davis': 15.552,\n",
       " 'Morgan Hill': 5.9184,\n",
       " 'Clifton': 22.1184,\n",
       " 'Sheboygan': 0.8909999999999999,\n",
       " 'East Point': 18.0,\n",
       " 'Rapid City': 5.0196,\n",
       " 'Andover': 23.31,\n",
       " 'Kissimmee': 84.5982,\n",
       " 'Shelton': 14.9925,\n",
       " 'Danbury': 9.8856,\n",
       " 'Sanford': -3.5508,\n",
       " 'San Marcos': -3.6372,\n",
       " 'Greeley': 7.007999999999999,\n",
       " 'Mansfield': 14.5152,\n",
       " 'Elyria': -1.3984,\n",
       " 'Twin Falls': 6.6352,\n",
       " 'Coral Gables': 2.6028,\n",
       " 'Romeoville': -14.7708,\n",
       " 'Marlborough': 67.60679999999999,\n",
       " 'Laurel': 36.2877,\n",
       " 'Bryan': -57.751999999999995,\n",
       " 'Pine Bluff': 63.983999999999995,\n",
       " 'Aberdeen': 6.63,\n",
       " 'Hagerstown': 20.586,\n",
       " 'East Orange': 13.674000000000001,\n",
       " 'Arlington Heights': 1.2348,\n",
       " 'Oswego': -540.2401,\n",
       " 'Coon Rapids': 78.9516,\n",
       " 'San Clemente': 6.5569,\n",
       " 'San Luis Obispo': 1.1946,\n",
       " 'Springdale': 1.419,\n",
       " 'Lodi': 16.2688,\n",
       " 'Mason': -20.5524}"
      ]
     },
     "execution_count": 140,
     "metadata": {},
     "output_type": "execute_result"
    }
   ],
   "source": [
    "weakest_sub_category_city_wise"
   ]
  },
  {
   "cell_type": "code",
   "execution_count": 132,
   "metadata": {},
   "outputs": [
    {
     "data": {
      "text/html": [
       "<div>\n",
       "<style scoped>\n",
       "    .dataframe tbody tr th:only-of-type {\n",
       "        vertical-align: middle;\n",
       "    }\n",
       "\n",
       "    .dataframe tbody tr th {\n",
       "        vertical-align: top;\n",
       "    }\n",
       "\n",
       "    .dataframe thead th {\n",
       "        text-align: right;\n",
       "    }\n",
       "</style>\n",
       "<table border=\"1\" class=\"dataframe\">\n",
       "  <thead>\n",
       "    <tr style=\"text-align: right;\">\n",
       "      <th></th>\n",
       "      <th>Sub-Category</th>\n",
       "      <th>Profit</th>\n",
       "    </tr>\n",
       "  </thead>\n",
       "  <tbody>\n",
       "    <tr>\n",
       "      <th>0</th>\n",
       "      <td>Henderson</td>\n",
       "      <td>Accessories</td>\n",
       "    </tr>\n",
       "    <tr>\n",
       "      <th>1</th>\n",
       "      <td>Los Angeles</td>\n",
       "      <td>Accessories</td>\n",
       "    </tr>\n",
       "    <tr>\n",
       "      <th>2</th>\n",
       "      <td>Fort Lauderdale</td>\n",
       "      <td>Accessories</td>\n",
       "    </tr>\n",
       "    <tr>\n",
       "      <th>3</th>\n",
       "      <td>Concord</td>\n",
       "      <td>Accessories</td>\n",
       "    </tr>\n",
       "    <tr>\n",
       "      <th>4</th>\n",
       "      <td>Seattle</td>\n",
       "      <td>Accessories</td>\n",
       "    </tr>\n",
       "    <tr>\n",
       "      <th>...</th>\n",
       "      <td>...</td>\n",
       "      <td>...</td>\n",
       "    </tr>\n",
       "    <tr>\n",
       "      <th>526</th>\n",
       "      <td>San Clemente</td>\n",
       "      <td>Binders</td>\n",
       "    </tr>\n",
       "    <tr>\n",
       "      <th>527</th>\n",
       "      <td>San Luis Obispo</td>\n",
       "      <td>Fasteners</td>\n",
       "    </tr>\n",
       "    <tr>\n",
       "      <th>528</th>\n",
       "      <td>Springdale</td>\n",
       "      <td>Art</td>\n",
       "    </tr>\n",
       "    <tr>\n",
       "      <th>529</th>\n",
       "      <td>Lodi</td>\n",
       "      <td>Art</td>\n",
       "    </tr>\n",
       "    <tr>\n",
       "      <th>530</th>\n",
       "      <td>Mason</td>\n",
       "      <td>Binders</td>\n",
       "    </tr>\n",
       "  </tbody>\n",
       "</table>\n",
       "<p>531 rows × 2 columns</p>\n",
       "</div>"
      ],
      "text/plain": [
       "        Sub-Category       Profit\n",
       "0          Henderson  Accessories\n",
       "1        Los Angeles  Accessories\n",
       "2    Fort Lauderdale  Accessories\n",
       "3            Concord  Accessories\n",
       "4            Seattle  Accessories\n",
       "..               ...          ...\n",
       "526     San Clemente      Binders\n",
       "527  San Luis Obispo    Fasteners\n",
       "528       Springdale          Art\n",
       "529             Lodi          Art\n",
       "530            Mason      Binders\n",
       "\n",
       "[531 rows x 2 columns]"
      ]
     },
     "execution_count": 132,
     "metadata": {},
     "output_type": "execute_result"
    }
   ],
   "source": [
    "weakest_sub = pd.DataFrame(list(weakest_sub_category_city_wise.items()), columns = ['Sub-Category', 'Profit'])\n",
    "weakest_sub"
   ]
  },
  {
   "cell_type": "code",
   "execution_count": 133,
   "metadata": {},
   "outputs": [],
   "source": [
    "weakest_sub.to_csv('weakest_sub.csv', index=False)"
   ]
  },
  {
   "cell_type": "markdown",
   "metadata": {},
   "source": [
    "Rest of the insights are identified and visualized in the dashboard."
   ]
  }
 ],
 "metadata": {
  "kernelspec": {
   "display_name": "Python 3",
   "language": "python",
   "name": "python3"
  },
  "language_info": {
   "codemirror_mode": {
    "name": "ipython",
    "version": 3
   },
   "file_extension": ".py",
   "mimetype": "text/x-python",
   "name": "python",
   "nbconvert_exporter": "python",
   "pygments_lexer": "ipython3",
   "version": "3.7.6"
  }
 },
 "nbformat": 4,
 "nbformat_minor": 4
}
